{
 "cells": [
  {
   "cell_type": "code",
   "execution_count": 3,
   "id": "fe765289-6f7f-4191-91eb-1cad7baeef20",
   "metadata": {},
   "outputs": [],
   "source": [
    "import numpy as np\n",
    "import pandas as pd"
   ]
  },
  {
   "cell_type": "code",
   "execution_count": 35,
   "id": "24658d78-5220-4b70-bf95-f6f6af1e1bcb",
   "metadata": {},
   "outputs": [],
   "source": [
    "df_soap_reduced20 = pd.read_pickle(\"df_soap_host_217.pkl\")"
   ]
  },
  {
   "cell_type": "code",
   "execution_count": 5,
   "id": "2bd371e7-f348-4c65-83c9-176861c691e4",
   "metadata": {},
   "outputs": [],
   "source": [
    "df = pd.read_pickle(\"defect_df.p\")\n",
    "df = df[df[\"defect_formation_energy\"] > 0]\n",
    "y = df[\"defect_formation_energy\"]"
   ]
  },
  {
   "cell_type": "code",
   "execution_count": 6,
   "id": "40aceefe-f7e4-456a-a8ab-2fb50f9e089a",
   "metadata": {},
   "outputs": [],
   "source": [
    "def corr_reduction(corr, thresh, data):    \n",
    "    columns = np.full((corr.shape[0],), True, dtype=bool)\n",
    "    for i in range(corr.shape[0]):\n",
    "        for j in range(i+1, corr.shape[0]):\n",
    "            if corr.iloc[i,j] >= thresh:\n",
    "                if columns[j]:\n",
    "                    columns[j] = False\n",
    "    selected_columns = data.columns[columns]\n",
    "    data = data[selected_columns]\n",
    "    return data"
   ]
  },
  {
   "cell_type": "markdown",
   "id": "a15d6b98-67b2-41a5-bb07-f2ebe4443ea5",
   "metadata": {
    "tags": []
   },
   "source": [
    "# SOAP + CM"
   ]
  },
  {
   "cell_type": "code",
   "execution_count": 5,
   "id": "95d73440-8b9c-4954-bc72-89191f45621d",
   "metadata": {},
   "outputs": [],
   "source": [
    "df_cm = pd.read_pickle(\"defect_df_cm_5\")\n",
    "df_cm_reduced = df_cm[df_cm[\"defect_formation_energy\"] > 0]"
   ]
  },
  {
   "cell_type": "code",
   "execution_count": 6,
   "id": "0752cc91-88d7-4eaf-8a0a-5c3c7a649ecd",
   "metadata": {},
   "outputs": [],
   "source": [
    "df_cm_reduced = df_cm_reduced.drop([\"name\",\"formula\",\"mp_id\", \"host_structure\", \"defect_index\", \"defect_structure_relaxed\", \"defect_structure_original\",\"defect_formation_energy\"],axis=1)\n",
    "\n",
    "df_cm_reduced = corr_reduction(df_cm_reduced.corr(),0.9, df_cm_reduced)"
   ]
  },
  {
   "cell_type": "code",
   "execution_count": 36,
   "id": "333bcc85-a63b-4384-93ab-b0e98a6b11ec",
   "metadata": {},
   "outputs": [
    {
     "ename": "NameError",
     "evalue": "name 'df_cm_reduced' is not defined",
     "output_type": "error",
     "traceback": [
      "\u001b[0;31m---------------------------------------------------------------------------\u001b[0m",
      "\u001b[0;31mNameError\u001b[0m                                 Traceback (most recent call last)",
      "\u001b[0;32m/tmp/ipykernel_333/3857176881.py\u001b[0m in \u001b[0;36m<module>\u001b[0;34m\u001b[0m\n\u001b[0;32m----> 1\u001b[0;31m \u001b[0mdf_soap_cm\u001b[0m \u001b[0;34m=\u001b[0m \u001b[0mdf_soap_reduced20\u001b[0m\u001b[0;34m.\u001b[0m\u001b[0mjoin\u001b[0m\u001b[0;34m(\u001b[0m\u001b[0mdf_cm_reduced\u001b[0m\u001b[0;34m)\u001b[0m\u001b[0;34m\u001b[0m\u001b[0;34m\u001b[0m\u001b[0m\n\u001b[0m",
      "\u001b[0;31mNameError\u001b[0m: name 'df_cm_reduced' is not defined"
     ]
    }
   ],
   "source": [
    "df_soap_cm = df_soap_reduced20.join(df_cm_reduced)"
   ]
  },
  {
   "cell_type": "code",
   "execution_count": 34,
   "id": "2ca9445f-4dc3-4e19-8f53-6f7604d7a538",
   "metadata": {},
   "outputs": [
    {
     "ename": "NameError",
     "evalue": "name 'df_soap_cm' is not defined",
     "output_type": "error",
     "traceback": [
      "\u001b[0;31m---------------------------------------------------------------------------\u001b[0m",
      "\u001b[0;31mNameError\u001b[0m                                 Traceback (most recent call last)",
      "\u001b[0;32m/tmp/ipykernel_333/2661505916.py\u001b[0m in \u001b[0;36m<module>\u001b[0;34m\u001b[0m\n\u001b[0;32m----> 1\u001b[0;31m \u001b[0mdf_soap_cm\u001b[0m\u001b[0;34m\u001b[0m\u001b[0;34m\u001b[0m\u001b[0m\n\u001b[0m",
      "\u001b[0;31mNameError\u001b[0m: name 'df_soap_cm' is not defined"
     ]
    }
   ],
   "source": [
    "df_soap_cm"
   ]
  },
  {
   "cell_type": "code",
   "execution_count": 7,
   "id": "b0bd2fad-f3fd-4bee-b254-7481951aa064",
   "metadata": {},
   "outputs": [
    {
     "name": "stderr",
     "output_type": "stream",
     "text": [
      "/home/saaj/miniconda3/envs/matminer/lib/python3.8/site-packages/xgboost/compat.py:36: FutureWarning: pandas.Int64Index is deprecated and will be removed from pandas in a future version. Use pandas.Index with the appropriate dtype instead.\n",
      "  from pandas import MultiIndex, Int64Index\n"
     ]
    }
   ],
   "source": [
    "from sklearn.ensemble import RandomForestRegressor\n",
    "rf_soap_cv = RandomForestRegressor()\n",
    "from xgboost import XGBRegressor\n",
    "xgbr = XGBRegressor()"
   ]
  },
  {
   "cell_type": "code",
   "execution_count": 8,
   "id": "0951d2ce-338e-49ac-95ea-9d60ac9ba1a8",
   "metadata": {},
   "outputs": [],
   "source": [
    "from sklearn.model_selection import KFold\n",
    "from sklearn.model_selection import cross_validate\n",
    "kf = KFold(n_splits = 5, shuffle = True, random_state = 42)"
   ]
  },
  {
   "cell_type": "code",
   "execution_count": 11,
   "id": "1cc36f22-cea7-415c-94b3-e6cc80a3f9c5",
   "metadata": {},
   "outputs": [],
   "source": [
    "out_soap_cm = cross_validate(rf_soap_cv, df_soap_cm, y, cv = kf, scoring = 'neg_root_mean_squared_error', return_estimator = True,error_score = 'raise')"
   ]
  },
  {
   "cell_type": "code",
   "execution_count": 12,
   "id": "b9775263-d17b-404b-a71c-dd63a664a741",
   "metadata": {},
   "outputs": [
    {
     "name": "stderr",
     "output_type": "stream",
     "text": [
      "/home/saaj/miniconda3/envs/matminer/lib/python3.8/site-packages/xgboost/data.py:250: FutureWarning: pandas.Int64Index is deprecated and will be removed from pandas in a future version. Use pandas.Index with the appropriate dtype instead.\n",
      "  elif isinstance(data.columns, (pd.Int64Index, pd.RangeIndex)):\n",
      "/home/saaj/miniconda3/envs/matminer/lib/python3.8/site-packages/xgboost/data.py:250: FutureWarning: pandas.Int64Index is deprecated and will be removed from pandas in a future version. Use pandas.Index with the appropriate dtype instead.\n",
      "  elif isinstance(data.columns, (pd.Int64Index, pd.RangeIndex)):\n",
      "/home/saaj/miniconda3/envs/matminer/lib/python3.8/site-packages/xgboost/data.py:250: FutureWarning: pandas.Int64Index is deprecated and will be removed from pandas in a future version. Use pandas.Index with the appropriate dtype instead.\n",
      "  elif isinstance(data.columns, (pd.Int64Index, pd.RangeIndex)):\n",
      "/home/saaj/miniconda3/envs/matminer/lib/python3.8/site-packages/xgboost/data.py:250: FutureWarning: pandas.Int64Index is deprecated and will be removed from pandas in a future version. Use pandas.Index with the appropriate dtype instead.\n",
      "  elif isinstance(data.columns, (pd.Int64Index, pd.RangeIndex)):\n",
      "/home/saaj/miniconda3/envs/matminer/lib/python3.8/site-packages/xgboost/data.py:250: FutureWarning: pandas.Int64Index is deprecated and will be removed from pandas in a future version. Use pandas.Index with the appropriate dtype instead.\n",
      "  elif isinstance(data.columns, (pd.Int64Index, pd.RangeIndex)):\n"
     ]
    }
   ],
   "source": [
    "out_cm_gbr = cross_validate(xgbr, df_soap_cm, y, cv = kf, scoring = 'neg_root_mean_squared_error', return_estimator = True,error_score = 'raise')"
   ]
  },
  {
   "cell_type": "code",
   "execution_count": 13,
   "id": "70102008-477f-4822-9e19-eb55aea13b77",
   "metadata": {},
   "outputs": [
    {
     "data": {
      "text/plain": [
       "-0.6869301648851133"
      ]
     },
     "execution_count": 13,
     "metadata": {},
     "output_type": "execute_result"
    }
   ],
   "source": [
    "out_soap_cm['test_score'].mean()"
   ]
  },
  {
   "cell_type": "code",
   "execution_count": 14,
   "id": "bc0f27ae-02ea-4f56-bb73-a4077df6c0d0",
   "metadata": {},
   "outputs": [
    {
     "data": {
      "text/plain": [
       "-0.6347897917431555"
      ]
     },
     "execution_count": 14,
     "metadata": {},
     "output_type": "execute_result"
    }
   ],
   "source": [
    "out_cm_gbr['test_score'].mean()"
   ]
  },
  {
   "cell_type": "markdown",
   "id": "9ecb7314-77eb-4a41-b5b8-26e3bacd363a",
   "metadata": {
    "tags": []
   },
   "source": [
    "# SOAP + SCM"
   ]
  },
  {
   "cell_type": "code",
   "execution_count": 40,
   "id": "90096520-9939-4d3f-90df-a391850a96bf",
   "metadata": {},
   "outputs": [],
   "source": [
    "df_scm = pd.read_pickle(\"defect_df_scm_5\")\n",
    "df_scm_reduced = df_scm[df_scm[\"defect_formation_energy\"] > 0]"
   ]
  },
  {
   "cell_type": "code",
   "execution_count": 41,
   "id": "e5a4186d-dd94-4431-b984-d34ac8db9e99",
   "metadata": {},
   "outputs": [],
   "source": [
    "df_scm_reduced = df_scm_reduced.drop([\"name\",\"formula\",\"mp_id\", \"host_structure\", \"defect_index\", \"defect_structure_relaxed\", \"defect_structure_original\",\"defect_formation_energy\"],axis=1)\n",
    "\n",
    "df_scm_reduced = corr_reduction(df_scm_reduced.corr(),0.9, df_scm_reduced)"
   ]
  },
  {
   "cell_type": "code",
   "execution_count": 42,
   "id": "4fed80a2-3744-4977-a6b8-b143ed5c14ef",
   "metadata": {},
   "outputs": [],
   "source": [
    "df_soap_scm = df_soap_reduced20.join(df_scm_reduced)"
   ]
  },
  {
   "cell_type": "code",
   "execution_count": 18,
   "id": "7e1cf41f-4ec4-4739-9a5d-7a36ca9f9ca2",
   "metadata": {},
   "outputs": [],
   "source": [
    "df_soap_scm_reduced = corr_reduction(df_soap_scm.corr(),0.9,df_soap_scm)"
   ]
  },
  {
   "cell_type": "code",
   "execution_count": 43,
   "id": "65aca822-75a6-424b-9852-1feb532efeeb",
   "metadata": {},
   "outputs": [
    {
     "data": {
      "text/html": [
       "<div>\n",
       "<style scoped>\n",
       "    .dataframe tbody tr th:only-of-type {\n",
       "        vertical-align: middle;\n",
       "    }\n",
       "\n",
       "    .dataframe tbody tr th {\n",
       "        vertical-align: top;\n",
       "    }\n",
       "\n",
       "    .dataframe thead th {\n",
       "        text-align: right;\n",
       "    }\n",
       "</style>\n",
       "<table border=\"1\" class=\"dataframe\">\n",
       "  <thead>\n",
       "    <tr style=\"text-align: right;\">\n",
       "      <th></th>\n",
       "      <th>mean SOAP_2688</th>\n",
       "      <th>std_dev SOAP_2499</th>\n",
       "      <th>std_dev SOAP_4434</th>\n",
       "      <th>mean SOAP_4924</th>\n",
       "      <th>mean SOAP_4735</th>\n",
       "      <th>mean SOAP_1364</th>\n",
       "      <th>mean SOAP_320</th>\n",
       "      <th>std_dev SOAP_5898</th>\n",
       "      <th>std_dev SOAP_1764</th>\n",
       "      <th>mean SOAP_5470</th>\n",
       "      <th>...</th>\n",
       "      <th>sine coulomb matrix eig 144</th>\n",
       "      <th>sine coulomb matrix eig 181</th>\n",
       "      <th>sine coulomb matrix eig 192</th>\n",
       "      <th>sine coulomb matrix eig 193</th>\n",
       "      <th>sine coulomb matrix eig 216</th>\n",
       "      <th>sine coulomb matrix eig 217</th>\n",
       "      <th>sine coulomb matrix eig 223</th>\n",
       "      <th>sine coulomb matrix eig 293</th>\n",
       "      <th>sine coulomb matrix eig 335</th>\n",
       "      <th>sine coulomb matrix eig 401</th>\n",
       "    </tr>\n",
       "  </thead>\n",
       "  <tbody>\n",
       "    <tr>\n",
       "      <th>1917</th>\n",
       "      <td>0.0</td>\n",
       "      <td>0.000000</td>\n",
       "      <td>0.0</td>\n",
       "      <td>0.0</td>\n",
       "      <td>0.000000</td>\n",
       "      <td>0.000000</td>\n",
       "      <td>0.000000</td>\n",
       "      <td>0.0</td>\n",
       "      <td>0.0</td>\n",
       "      <td>0.000000</td>\n",
       "      <td>...</td>\n",
       "      <td>1644.805984</td>\n",
       "      <td>90.126673</td>\n",
       "      <td>80.986545</td>\n",
       "      <td>80.639932</td>\n",
       "      <td>41.292350</td>\n",
       "      <td>41.336154</td>\n",
       "      <td>42.792877</td>\n",
       "      <td>44.301388</td>\n",
       "      <td>50.295898</td>\n",
       "      <td>53.749478</td>\n",
       "    </tr>\n",
       "    <tr>\n",
       "      <th>1827</th>\n",
       "      <td>0.0</td>\n",
       "      <td>0.000000</td>\n",
       "      <td>0.0</td>\n",
       "      <td>0.0</td>\n",
       "      <td>0.000000</td>\n",
       "      <td>0.000000</td>\n",
       "      <td>0.000000</td>\n",
       "      <td>0.0</td>\n",
       "      <td>0.0</td>\n",
       "      <td>-0.089515</td>\n",
       "      <td>...</td>\n",
       "      <td>0.000000</td>\n",
       "      <td>0.000000</td>\n",
       "      <td>0.000000</td>\n",
       "      <td>0.000000</td>\n",
       "      <td>0.000000</td>\n",
       "      <td>0.000000</td>\n",
       "      <td>0.000000</td>\n",
       "      <td>0.000000</td>\n",
       "      <td>0.000000</td>\n",
       "      <td>0.000000</td>\n",
       "    </tr>\n",
       "    <tr>\n",
       "      <th>352</th>\n",
       "      <td>0.0</td>\n",
       "      <td>0.000000</td>\n",
       "      <td>0.0</td>\n",
       "      <td>0.0</td>\n",
       "      <td>0.000000</td>\n",
       "      <td>0.010073</td>\n",
       "      <td>0.000000</td>\n",
       "      <td>0.0</td>\n",
       "      <td>0.0</td>\n",
       "      <td>-0.016928</td>\n",
       "      <td>...</td>\n",
       "      <td>30.567663</td>\n",
       "      <td>34.606064</td>\n",
       "      <td>75.603930</td>\n",
       "      <td>75.170205</td>\n",
       "      <td>69.783327</td>\n",
       "      <td>75.826760</td>\n",
       "      <td>42.394642</td>\n",
       "      <td>61.545370</td>\n",
       "      <td>53.717163</td>\n",
       "      <td>0.000000</td>\n",
       "    </tr>\n",
       "    <tr>\n",
       "      <th>91</th>\n",
       "      <td>0.0</td>\n",
       "      <td>0.000000</td>\n",
       "      <td>0.0</td>\n",
       "      <td>0.0</td>\n",
       "      <td>-0.088388</td>\n",
       "      <td>0.000000</td>\n",
       "      <td>0.029132</td>\n",
       "      <td>0.0</td>\n",
       "      <td>0.0</td>\n",
       "      <td>0.000000</td>\n",
       "      <td>...</td>\n",
       "      <td>-13.431210</td>\n",
       "      <td>-13.115136</td>\n",
       "      <td>48.319659</td>\n",
       "      <td>48.412045</td>\n",
       "      <td>64.564599</td>\n",
       "      <td>64.267563</td>\n",
       "      <td>71.139325</td>\n",
       "      <td>59.899083</td>\n",
       "      <td>0.000000</td>\n",
       "      <td>0.000000</td>\n",
       "    </tr>\n",
       "    <tr>\n",
       "      <th>1868</th>\n",
       "      <td>0.0</td>\n",
       "      <td>0.001776</td>\n",
       "      <td>0.0</td>\n",
       "      <td>0.0</td>\n",
       "      <td>0.000000</td>\n",
       "      <td>0.000000</td>\n",
       "      <td>0.000000</td>\n",
       "      <td>0.0</td>\n",
       "      <td>0.0</td>\n",
       "      <td>0.000000</td>\n",
       "      <td>...</td>\n",
       "      <td>137.943710</td>\n",
       "      <td>72.385616</td>\n",
       "      <td>71.138847</td>\n",
       "      <td>71.166065</td>\n",
       "      <td>51.514002</td>\n",
       "      <td>66.325768</td>\n",
       "      <td>64.909046</td>\n",
       "      <td>56.641210</td>\n",
       "      <td>0.000000</td>\n",
       "      <td>0.000000</td>\n",
       "    </tr>\n",
       "  </tbody>\n",
       "</table>\n",
       "<p>5 rows × 238 columns</p>\n",
       "</div>"
      ],
      "text/plain": [
       "      mean SOAP_2688  std_dev SOAP_2499  std_dev SOAP_4434  mean SOAP_4924  \\\n",
       "1917             0.0           0.000000                0.0             0.0   \n",
       "1827             0.0           0.000000                0.0             0.0   \n",
       "352              0.0           0.000000                0.0             0.0   \n",
       "91               0.0           0.000000                0.0             0.0   \n",
       "1868             0.0           0.001776                0.0             0.0   \n",
       "\n",
       "      mean SOAP_4735  mean SOAP_1364  mean SOAP_320  std_dev SOAP_5898  \\\n",
       "1917        0.000000        0.000000       0.000000                0.0   \n",
       "1827        0.000000        0.000000       0.000000                0.0   \n",
       "352         0.000000        0.010073       0.000000                0.0   \n",
       "91         -0.088388        0.000000       0.029132                0.0   \n",
       "1868        0.000000        0.000000       0.000000                0.0   \n",
       "\n",
       "      std_dev SOAP_1764  mean SOAP_5470  ...  sine coulomb matrix eig 144  \\\n",
       "1917                0.0        0.000000  ...                  1644.805984   \n",
       "1827                0.0       -0.089515  ...                     0.000000   \n",
       "352                 0.0       -0.016928  ...                    30.567663   \n",
       "91                  0.0        0.000000  ...                   -13.431210   \n",
       "1868                0.0        0.000000  ...                   137.943710   \n",
       "\n",
       "      sine coulomb matrix eig 181  sine coulomb matrix eig 192  \\\n",
       "1917                    90.126673                    80.986545   \n",
       "1827                     0.000000                     0.000000   \n",
       "352                     34.606064                    75.603930   \n",
       "91                     -13.115136                    48.319659   \n",
       "1868                    72.385616                    71.138847   \n",
       "\n",
       "      sine coulomb matrix eig 193  sine coulomb matrix eig 216  \\\n",
       "1917                    80.639932                    41.292350   \n",
       "1827                     0.000000                     0.000000   \n",
       "352                     75.170205                    69.783327   \n",
       "91                      48.412045                    64.564599   \n",
       "1868                    71.166065                    51.514002   \n",
       "\n",
       "      sine coulomb matrix eig 217  sine coulomb matrix eig 223  \\\n",
       "1917                    41.336154                    42.792877   \n",
       "1827                     0.000000                     0.000000   \n",
       "352                     75.826760                    42.394642   \n",
       "91                      64.267563                    71.139325   \n",
       "1868                    66.325768                    64.909046   \n",
       "\n",
       "      sine coulomb matrix eig 293  sine coulomb matrix eig 335  \\\n",
       "1917                    44.301388                    50.295898   \n",
       "1827                     0.000000                     0.000000   \n",
       "352                     61.545370                    53.717163   \n",
       "91                      59.899083                     0.000000   \n",
       "1868                    56.641210                     0.000000   \n",
       "\n",
       "      sine coulomb matrix eig 401  \n",
       "1917                    53.749478  \n",
       "1827                     0.000000  \n",
       "352                      0.000000  \n",
       "91                       0.000000  \n",
       "1868                     0.000000  \n",
       "\n",
       "[5 rows x 238 columns]"
      ]
     },
     "execution_count": 43,
     "metadata": {},
     "output_type": "execute_result"
    }
   ],
   "source": [
    "df_soap_scm.head()"
   ]
  },
  {
   "cell_type": "code",
   "execution_count": 20,
   "id": "d87ebe3e-2c5c-46ad-b09a-079102a57bcd",
   "metadata": {},
   "outputs": [],
   "source": [
    "# rf_soap_scm = RandomForestRegressor(**{'bootstrap': True,\n",
    "#  'max_depth': None,\n",
    "#  'max_features': 3,\n",
    "#  'min_samples_leaf': 1,\n",
    "#  'min_samples_split': 2,\n",
    "#  'n_estimators': 500})\n",
    "out_soap_scm = cross_validate(rf_soap_cv, df_soap_scm, y, cv = kf, scoring = 'neg_root_mean_squared_error', return_estimator = True)\n"
   ]
  },
  {
   "cell_type": "code",
   "execution_count": 21,
   "id": "4911ab6a-4491-4fd9-92e7-cd667a99cb54",
   "metadata": {},
   "outputs": [
    {
     "name": "stderr",
     "output_type": "stream",
     "text": [
      "/home/saaj/miniconda3/envs/matminer/lib/python3.8/site-packages/xgboost/data.py:250: FutureWarning: pandas.Int64Index is deprecated and will be removed from pandas in a future version. Use pandas.Index with the appropriate dtype instead.\n",
      "  elif isinstance(data.columns, (pd.Int64Index, pd.RangeIndex)):\n",
      "/home/saaj/miniconda3/envs/matminer/lib/python3.8/site-packages/xgboost/data.py:250: FutureWarning: pandas.Int64Index is deprecated and will be removed from pandas in a future version. Use pandas.Index with the appropriate dtype instead.\n",
      "  elif isinstance(data.columns, (pd.Int64Index, pd.RangeIndex)):\n",
      "/home/saaj/miniconda3/envs/matminer/lib/python3.8/site-packages/xgboost/data.py:250: FutureWarning: pandas.Int64Index is deprecated and will be removed from pandas in a future version. Use pandas.Index with the appropriate dtype instead.\n",
      "  elif isinstance(data.columns, (pd.Int64Index, pd.RangeIndex)):\n",
      "/home/saaj/miniconda3/envs/matminer/lib/python3.8/site-packages/xgboost/data.py:250: FutureWarning: pandas.Int64Index is deprecated and will be removed from pandas in a future version. Use pandas.Index with the appropriate dtype instead.\n",
      "  elif isinstance(data.columns, (pd.Int64Index, pd.RangeIndex)):\n",
      "/home/saaj/miniconda3/envs/matminer/lib/python3.8/site-packages/xgboost/data.py:250: FutureWarning: pandas.Int64Index is deprecated and will be removed from pandas in a future version. Use pandas.Index with the appropriate dtype instead.\n",
      "  elif isinstance(data.columns, (pd.Int64Index, pd.RangeIndex)):\n"
     ]
    }
   ],
   "source": [
    "out_scm_gbr = cross_validate(xgbr, df_soap_scm, y, cv = kf, scoring = 'neg_root_mean_squared_error', return_estimator = True,error_score = 'raise')"
   ]
  },
  {
   "cell_type": "code",
   "execution_count": 22,
   "id": "baeaab78-2bfb-4ac8-9d2a-7aa90a9dfc66",
   "metadata": {},
   "outputs": [
    {
     "data": {
      "text/plain": [
       "-0.6714947561462322"
      ]
     },
     "execution_count": 22,
     "metadata": {},
     "output_type": "execute_result"
    }
   ],
   "source": [
    "out_soap_scm['test_score'].mean()"
   ]
  },
  {
   "cell_type": "code",
   "execution_count": 23,
   "id": "21b312b8-78c6-41be-82fb-501df0a2eacb",
   "metadata": {},
   "outputs": [
    {
     "data": {
      "text/plain": [
       "-0.6384729643015497"
      ]
     },
     "execution_count": 23,
     "metadata": {},
     "output_type": "execute_result"
    }
   ],
   "source": [
    "out_scm_gbr['test_score'].mean()"
   ]
  },
  {
   "cell_type": "markdown",
   "id": "8c82535e-e74a-4654-b27c-dfdca8aeb0d3",
   "metadata": {
    "tags": []
   },
   "source": [
    "# SOAP + SCM + Density"
   ]
  },
  {
   "cell_type": "code",
   "execution_count": 24,
   "id": "d1666c0b-7b62-4774-b3ee-8e7328255a13",
   "metadata": {},
   "outputs": [],
   "source": [
    "df_d = pd.read_pickle(\"df_d_mpe_gs.pkl\")\n",
    "df_d_reduced = df_d[df_d[\"defect_formation_energy\"] > 0]"
   ]
  },
  {
   "cell_type": "code",
   "execution_count": 25,
   "id": "dd81c4a7-8e11-4695-8eba-0d3ff0f6bb68",
   "metadata": {},
   "outputs": [],
   "source": [
    "df_d_reduced = df_d_reduced.drop([\"name\",\"formula\",\"mp_id\", \"host_structure\", \"defect_index\", \"defect_structure_relaxed\", \"defect_structure_original\",\"defect_formation_energy\"],axis=1)\n",
    "\n",
    "# df_cm_reduced = corr_reduction(df_cm_reduced.corr(),0.9, df_cm_reduced)"
   ]
  },
  {
   "cell_type": "code",
   "execution_count": 44,
   "id": "46bc51ac-90ff-49fc-a84e-0f996ba74788",
   "metadata": {},
   "outputs": [],
   "source": [
    "df_soap_scd = df_soap_scm.join(df_d_reduced)"
   ]
  },
  {
   "cell_type": "code",
   "execution_count": 27,
   "id": "7db065fe-99cd-47c1-a216-a5e8e9b6c62a",
   "metadata": {},
   "outputs": [
    {
     "data": {
      "text/html": [
       "<div>\n",
       "<style scoped>\n",
       "    .dataframe tbody tr th:only-of-type {\n",
       "        vertical-align: middle;\n",
       "    }\n",
       "\n",
       "    .dataframe tbody tr th {\n",
       "        vertical-align: top;\n",
       "    }\n",
       "\n",
       "    .dataframe thead th {\n",
       "        text-align: right;\n",
       "    }\n",
       "</style>\n",
       "<table border=\"1\" class=\"dataframe\">\n",
       "  <thead>\n",
       "    <tr style=\"text-align: right;\">\n",
       "      <th></th>\n",
       "      <th>density</th>\n",
       "      <th>vpa</th>\n",
       "      <th>packing fraction</th>\n",
       "      <th>max packing efficiency</th>\n",
       "      <th>spacegroup_num</th>\n",
       "      <th>crystal_system</th>\n",
       "      <th>crystal_system_int</th>\n",
       "      <th>is_centrosymmetric</th>\n",
       "    </tr>\n",
       "  </thead>\n",
       "  <tbody>\n",
       "    <tr>\n",
       "      <th>1917</th>\n",
       "      <td>7.340130</td>\n",
       "      <td>11.959952</td>\n",
       "      <td>0.410482</td>\n",
       "      <td>0.300958</td>\n",
       "      <td>1</td>\n",
       "      <td>triclinic</td>\n",
       "      <td>7</td>\n",
       "      <td>False</td>\n",
       "    </tr>\n",
       "    <tr>\n",
       "      <th>1827</th>\n",
       "      <td>5.662070</td>\n",
       "      <td>16.106118</td>\n",
       "      <td>0.733155</td>\n",
       "      <td>0.311252</td>\n",
       "      <td>1</td>\n",
       "      <td>triclinic</td>\n",
       "      <td>7</td>\n",
       "      <td>False</td>\n",
       "    </tr>\n",
       "    <tr>\n",
       "      <th>352</th>\n",
       "      <td>5.551771</td>\n",
       "      <td>11.513054</td>\n",
       "      <td>0.685517</td>\n",
       "      <td>0.379453</td>\n",
       "      <td>1</td>\n",
       "      <td>triclinic</td>\n",
       "      <td>7</td>\n",
       "      <td>False</td>\n",
       "    </tr>\n",
       "    <tr>\n",
       "      <th>91</th>\n",
       "      <td>5.085798</td>\n",
       "      <td>12.389093</td>\n",
       "      <td>0.794698</td>\n",
       "      <td>0.277284</td>\n",
       "      <td>8</td>\n",
       "      <td>monoclinic</td>\n",
       "      <td>6</td>\n",
       "      <td>False</td>\n",
       "    </tr>\n",
       "    <tr>\n",
       "      <th>1868</th>\n",
       "      <td>6.587255</td>\n",
       "      <td>15.571968</td>\n",
       "      <td>0.641528</td>\n",
       "      <td>0.265092</td>\n",
       "      <td>1</td>\n",
       "      <td>triclinic</td>\n",
       "      <td>7</td>\n",
       "      <td>False</td>\n",
       "    </tr>\n",
       "    <tr>\n",
       "      <th>...</th>\n",
       "      <td>...</td>\n",
       "      <td>...</td>\n",
       "      <td>...</td>\n",
       "      <td>...</td>\n",
       "      <td>...</td>\n",
       "      <td>...</td>\n",
       "      <td>...</td>\n",
       "      <td>...</td>\n",
       "    </tr>\n",
       "    <tr>\n",
       "      <th>1638</th>\n",
       "      <td>4.768546</td>\n",
       "      <td>15.467348</td>\n",
       "      <td>0.614265</td>\n",
       "      <td>0.295605</td>\n",
       "      <td>1</td>\n",
       "      <td>triclinic</td>\n",
       "      <td>7</td>\n",
       "      <td>False</td>\n",
       "    </tr>\n",
       "    <tr>\n",
       "      <th>1095</th>\n",
       "      <td>3.568996</td>\n",
       "      <td>10.449835</td>\n",
       "      <td>0.733639</td>\n",
       "      <td>0.404477</td>\n",
       "      <td>3</td>\n",
       "      <td>monoclinic</td>\n",
       "      <td>6</td>\n",
       "      <td>False</td>\n",
       "    </tr>\n",
       "    <tr>\n",
       "      <th>1130</th>\n",
       "      <td>5.698582</td>\n",
       "      <td>9.643752</td>\n",
       "      <td>0.713843</td>\n",
       "      <td>0.517118</td>\n",
       "      <td>156</td>\n",
       "      <td>trigonal</td>\n",
       "      <td>3</td>\n",
       "      <td>False</td>\n",
       "    </tr>\n",
       "    <tr>\n",
       "      <th>1294</th>\n",
       "      <td>5.339617</td>\n",
       "      <td>14.000677</td>\n",
       "      <td>0.885532</td>\n",
       "      <td>0.352660</td>\n",
       "      <td>25</td>\n",
       "      <td>orthorhombic</td>\n",
       "      <td>5</td>\n",
       "      <td>False</td>\n",
       "    </tr>\n",
       "    <tr>\n",
       "      <th>860</th>\n",
       "      <td>5.363055</td>\n",
       "      <td>15.796771</td>\n",
       "      <td>0.800077</td>\n",
       "      <td>0.337709</td>\n",
       "      <td>1</td>\n",
       "      <td>triclinic</td>\n",
       "      <td>7</td>\n",
       "      <td>False</td>\n",
       "    </tr>\n",
       "  </tbody>\n",
       "</table>\n",
       "<p>1665 rows × 8 columns</p>\n",
       "</div>"
      ],
      "text/plain": [
       "       density        vpa  packing fraction  max packing efficiency  \\\n",
       "1917  7.340130  11.959952          0.410482                0.300958   \n",
       "1827  5.662070  16.106118          0.733155                0.311252   \n",
       "352   5.551771  11.513054          0.685517                0.379453   \n",
       "91    5.085798  12.389093          0.794698                0.277284   \n",
       "1868  6.587255  15.571968          0.641528                0.265092   \n",
       "...        ...        ...               ...                     ...   \n",
       "1638  4.768546  15.467348          0.614265                0.295605   \n",
       "1095  3.568996  10.449835          0.733639                0.404477   \n",
       "1130  5.698582   9.643752          0.713843                0.517118   \n",
       "1294  5.339617  14.000677          0.885532                0.352660   \n",
       "860   5.363055  15.796771          0.800077                0.337709   \n",
       "\n",
       "      spacegroup_num crystal_system  crystal_system_int  is_centrosymmetric  \n",
       "1917               1      triclinic                   7               False  \n",
       "1827               1      triclinic                   7               False  \n",
       "352                1      triclinic                   7               False  \n",
       "91                 8     monoclinic                   6               False  \n",
       "1868               1      triclinic                   7               False  \n",
       "...              ...            ...                 ...                 ...  \n",
       "1638               1      triclinic                   7               False  \n",
       "1095               3     monoclinic                   6               False  \n",
       "1130             156       trigonal                   3               False  \n",
       "1294              25   orthorhombic                   5               False  \n",
       "860                1      triclinic                   7               False  \n",
       "\n",
       "[1665 rows x 8 columns]"
      ]
     },
     "execution_count": 27,
     "metadata": {},
     "output_type": "execute_result"
    }
   ],
   "source": [
    "df_d_reduced"
   ]
  },
  {
   "cell_type": "code",
   "execution_count": 45,
   "id": "5b164ba3-45bc-45b4-9bf1-0cd5a13075cb",
   "metadata": {},
   "outputs": [],
   "source": [
    "df_soap_scd = df_soap_scd.drop([\"crystal_system\"], axis = 1)"
   ]
  },
  {
   "cell_type": "code",
   "execution_count": 49,
   "id": "b703e4b4-4d31-4145-b709-a6269c36082d",
   "metadata": {},
   "outputs": [],
   "source": [
    "\n",
    "\n",
    "rf_soap_scd = RandomForestRegressor()\n",
    "out_soap_scd = cross_validate(rf_soap_scd, df_soap_scd, y, cv = kf, scoring = 'neg_root_mean_squared_error', return_estimator = True)\n"
   ]
  },
  {
   "cell_type": "code",
   "execution_count": 50,
   "id": "6c1c1796-70ab-44fd-a694-9cb01c5dfe1e",
   "metadata": {},
   "outputs": [
    {
     "data": {
      "text/plain": [
       "-0.6699392681278349"
      ]
     },
     "execution_count": 50,
     "metadata": {},
     "output_type": "execute_result"
    }
   ],
   "source": [
    "out_soap_scd['test_score'].mean()"
   ]
  },
  {
   "cell_type": "code",
   "execution_count": 51,
   "id": "a354b17b-a51f-4c05-994c-60c4fb061bb5",
   "metadata": {},
   "outputs": [
    {
     "name": "stderr",
     "output_type": "stream",
     "text": [
      "/home/saaj/miniconda3/envs/matminer/lib/python3.8/site-packages/xgboost/data.py:250: FutureWarning: pandas.Int64Index is deprecated and will be removed from pandas in a future version. Use pandas.Index with the appropriate dtype instead.\n",
      "  elif isinstance(data.columns, (pd.Int64Index, pd.RangeIndex)):\n",
      "/home/saaj/miniconda3/envs/matminer/lib/python3.8/site-packages/xgboost/data.py:250: FutureWarning: pandas.Int64Index is deprecated and will be removed from pandas in a future version. Use pandas.Index with the appropriate dtype instead.\n",
      "  elif isinstance(data.columns, (pd.Int64Index, pd.RangeIndex)):\n",
      "/home/saaj/miniconda3/envs/matminer/lib/python3.8/site-packages/xgboost/data.py:250: FutureWarning: pandas.Int64Index is deprecated and will be removed from pandas in a future version. Use pandas.Index with the appropriate dtype instead.\n",
      "  elif isinstance(data.columns, (pd.Int64Index, pd.RangeIndex)):\n",
      "/home/saaj/miniconda3/envs/matminer/lib/python3.8/site-packages/xgboost/data.py:250: FutureWarning: pandas.Int64Index is deprecated and will be removed from pandas in a future version. Use pandas.Index with the appropriate dtype instead.\n",
      "  elif isinstance(data.columns, (pd.Int64Index, pd.RangeIndex)):\n",
      "/home/saaj/miniconda3/envs/matminer/lib/python3.8/site-packages/xgboost/data.py:250: FutureWarning: pandas.Int64Index is deprecated and will be removed from pandas in a future version. Use pandas.Index with the appropriate dtype instead.\n",
      "  elif isinstance(data.columns, (pd.Int64Index, pd.RangeIndex)):\n"
     ]
    }
   ],
   "source": [
    "out_scd_gbr = cross_validate(xgbr, df_soap_scd, y, cv = kf, scoring = 'neg_root_mean_squared_error', return_estimator = True,error_score = 'raise')"
   ]
  },
  {
   "cell_type": "code",
   "execution_count": 52,
   "id": "2db62510-a36d-4a5b-ba82-16ed595b0485",
   "metadata": {},
   "outputs": [
    {
     "data": {
      "text/plain": [
       "-0.6699392681278349"
      ]
     },
     "execution_count": 52,
     "metadata": {},
     "output_type": "execute_result"
    }
   ],
   "source": [
    "out_soap_scd['test_score'].mean()"
   ]
  },
  {
   "cell_type": "code",
   "execution_count": 53,
   "id": "f3d42026-fbfa-4a84-b166-82849d6f66e8",
   "metadata": {},
   "outputs": [
    {
     "data": {
      "text/plain": [
       "-0.6353530957015295"
      ]
     },
     "execution_count": 53,
     "metadata": {},
     "output_type": "execute_result"
    }
   ],
   "source": [
    "out_scd_gbr['test_score'].mean()"
   ]
  },
  {
   "cell_type": "code",
   "execution_count": 46,
   "id": "5c994d37-8d0e-42db-8814-504d7847739a",
   "metadata": {},
   "outputs": [
    {
     "data": {
      "text/html": [
       "<div>\n",
       "<style scoped>\n",
       "    .dataframe tbody tr th:only-of-type {\n",
       "        vertical-align: middle;\n",
       "    }\n",
       "\n",
       "    .dataframe tbody tr th {\n",
       "        vertical-align: top;\n",
       "    }\n",
       "\n",
       "    .dataframe thead th {\n",
       "        text-align: right;\n",
       "    }\n",
       "</style>\n",
       "<table border=\"1\" class=\"dataframe\">\n",
       "  <thead>\n",
       "    <tr style=\"text-align: right;\">\n",
       "      <th></th>\n",
       "      <th>mean SOAP_2688</th>\n",
       "      <th>std_dev SOAP_2499</th>\n",
       "      <th>std_dev SOAP_4434</th>\n",
       "      <th>mean SOAP_4924</th>\n",
       "      <th>mean SOAP_4735</th>\n",
       "      <th>mean SOAP_1364</th>\n",
       "      <th>mean SOAP_320</th>\n",
       "      <th>std_dev SOAP_5898</th>\n",
       "      <th>std_dev SOAP_1764</th>\n",
       "      <th>mean SOAP_5470</th>\n",
       "      <th>...</th>\n",
       "      <th>sine coulomb matrix eig 293</th>\n",
       "      <th>sine coulomb matrix eig 335</th>\n",
       "      <th>sine coulomb matrix eig 401</th>\n",
       "      <th>density</th>\n",
       "      <th>vpa</th>\n",
       "      <th>packing fraction</th>\n",
       "      <th>max packing efficiency</th>\n",
       "      <th>spacegroup_num</th>\n",
       "      <th>crystal_system_int</th>\n",
       "      <th>is_centrosymmetric</th>\n",
       "    </tr>\n",
       "  </thead>\n",
       "  <tbody>\n",
       "    <tr>\n",
       "      <th>1917</th>\n",
       "      <td>0.0</td>\n",
       "      <td>0.000000</td>\n",
       "      <td>0.000000</td>\n",
       "      <td>0.000000</td>\n",
       "      <td>0.000000</td>\n",
       "      <td>0.000000</td>\n",
       "      <td>0.000000</td>\n",
       "      <td>0.000000</td>\n",
       "      <td>0.0</td>\n",
       "      <td>0.000000</td>\n",
       "      <td>...</td>\n",
       "      <td>44.301388</td>\n",
       "      <td>50.295898</td>\n",
       "      <td>53.749478</td>\n",
       "      <td>7.340130</td>\n",
       "      <td>11.959952</td>\n",
       "      <td>0.410482</td>\n",
       "      <td>0.300958</td>\n",
       "      <td>1</td>\n",
       "      <td>7</td>\n",
       "      <td>False</td>\n",
       "    </tr>\n",
       "    <tr>\n",
       "      <th>1827</th>\n",
       "      <td>0.0</td>\n",
       "      <td>0.000000</td>\n",
       "      <td>0.000000</td>\n",
       "      <td>0.000000</td>\n",
       "      <td>0.000000</td>\n",
       "      <td>0.000000</td>\n",
       "      <td>0.000000</td>\n",
       "      <td>0.000000</td>\n",
       "      <td>0.0</td>\n",
       "      <td>-0.089515</td>\n",
       "      <td>...</td>\n",
       "      <td>0.000000</td>\n",
       "      <td>0.000000</td>\n",
       "      <td>0.000000</td>\n",
       "      <td>5.662070</td>\n",
       "      <td>16.106118</td>\n",
       "      <td>0.733155</td>\n",
       "      <td>0.311252</td>\n",
       "      <td>1</td>\n",
       "      <td>7</td>\n",
       "      <td>False</td>\n",
       "    </tr>\n",
       "    <tr>\n",
       "      <th>352</th>\n",
       "      <td>0.0</td>\n",
       "      <td>0.000000</td>\n",
       "      <td>0.000000</td>\n",
       "      <td>0.000000</td>\n",
       "      <td>0.000000</td>\n",
       "      <td>0.010073</td>\n",
       "      <td>0.000000</td>\n",
       "      <td>0.000000</td>\n",
       "      <td>0.0</td>\n",
       "      <td>-0.016928</td>\n",
       "      <td>...</td>\n",
       "      <td>61.545370</td>\n",
       "      <td>53.717163</td>\n",
       "      <td>0.000000</td>\n",
       "      <td>5.551771</td>\n",
       "      <td>11.513054</td>\n",
       "      <td>0.685517</td>\n",
       "      <td>0.379453</td>\n",
       "      <td>1</td>\n",
       "      <td>7</td>\n",
       "      <td>False</td>\n",
       "    </tr>\n",
       "    <tr>\n",
       "      <th>91</th>\n",
       "      <td>0.0</td>\n",
       "      <td>0.000000</td>\n",
       "      <td>0.000000</td>\n",
       "      <td>0.000000</td>\n",
       "      <td>-0.088388</td>\n",
       "      <td>0.000000</td>\n",
       "      <td>0.029132</td>\n",
       "      <td>0.000000</td>\n",
       "      <td>0.0</td>\n",
       "      <td>0.000000</td>\n",
       "      <td>...</td>\n",
       "      <td>59.899083</td>\n",
       "      <td>0.000000</td>\n",
       "      <td>0.000000</td>\n",
       "      <td>5.085798</td>\n",
       "      <td>12.389093</td>\n",
       "      <td>0.794698</td>\n",
       "      <td>0.277284</td>\n",
       "      <td>8</td>\n",
       "      <td>6</td>\n",
       "      <td>False</td>\n",
       "    </tr>\n",
       "    <tr>\n",
       "      <th>1868</th>\n",
       "      <td>0.0</td>\n",
       "      <td>0.001776</td>\n",
       "      <td>0.000000</td>\n",
       "      <td>0.000000</td>\n",
       "      <td>0.000000</td>\n",
       "      <td>0.000000</td>\n",
       "      <td>0.000000</td>\n",
       "      <td>0.000000</td>\n",
       "      <td>0.0</td>\n",
       "      <td>0.000000</td>\n",
       "      <td>...</td>\n",
       "      <td>56.641210</td>\n",
       "      <td>0.000000</td>\n",
       "      <td>0.000000</td>\n",
       "      <td>6.587255</td>\n",
       "      <td>15.571968</td>\n",
       "      <td>0.641528</td>\n",
       "      <td>0.265092</td>\n",
       "      <td>1</td>\n",
       "      <td>7</td>\n",
       "      <td>False</td>\n",
       "    </tr>\n",
       "    <tr>\n",
       "      <th>...</th>\n",
       "      <td>...</td>\n",
       "      <td>...</td>\n",
       "      <td>...</td>\n",
       "      <td>...</td>\n",
       "      <td>...</td>\n",
       "      <td>...</td>\n",
       "      <td>...</td>\n",
       "      <td>...</td>\n",
       "      <td>...</td>\n",
       "      <td>...</td>\n",
       "      <td>...</td>\n",
       "      <td>...</td>\n",
       "      <td>...</td>\n",
       "      <td>...</td>\n",
       "      <td>...</td>\n",
       "      <td>...</td>\n",
       "      <td>...</td>\n",
       "      <td>...</td>\n",
       "      <td>...</td>\n",
       "      <td>...</td>\n",
       "      <td>...</td>\n",
       "    </tr>\n",
       "    <tr>\n",
       "      <th>1638</th>\n",
       "      <td>0.0</td>\n",
       "      <td>0.000000</td>\n",
       "      <td>0.006905</td>\n",
       "      <td>0.000000</td>\n",
       "      <td>0.000000</td>\n",
       "      <td>0.000000</td>\n",
       "      <td>0.000000</td>\n",
       "      <td>0.000000</td>\n",
       "      <td>0.0</td>\n",
       "      <td>0.000000</td>\n",
       "      <td>...</td>\n",
       "      <td>65.391600</td>\n",
       "      <td>55.273140</td>\n",
       "      <td>61.643390</td>\n",
       "      <td>4.768546</td>\n",
       "      <td>15.467348</td>\n",
       "      <td>0.614265</td>\n",
       "      <td>0.295605</td>\n",
       "      <td>1</td>\n",
       "      <td>7</td>\n",
       "      <td>False</td>\n",
       "    </tr>\n",
       "    <tr>\n",
       "      <th>1095</th>\n",
       "      <td>0.0</td>\n",
       "      <td>0.000000</td>\n",
       "      <td>0.000000</td>\n",
       "      <td>0.000000</td>\n",
       "      <td>0.000000</td>\n",
       "      <td>0.000000</td>\n",
       "      <td>0.000000</td>\n",
       "      <td>0.000000</td>\n",
       "      <td>0.0</td>\n",
       "      <td>0.000000</td>\n",
       "      <td>...</td>\n",
       "      <td>0.000000</td>\n",
       "      <td>0.000000</td>\n",
       "      <td>0.000000</td>\n",
       "      <td>3.568996</td>\n",
       "      <td>10.449835</td>\n",
       "      <td>0.733639</td>\n",
       "      <td>0.404477</td>\n",
       "      <td>3</td>\n",
       "      <td>6</td>\n",
       "      <td>False</td>\n",
       "    </tr>\n",
       "    <tr>\n",
       "      <th>1130</th>\n",
       "      <td>0.0</td>\n",
       "      <td>0.000000</td>\n",
       "      <td>0.000000</td>\n",
       "      <td>0.000000</td>\n",
       "      <td>0.000000</td>\n",
       "      <td>0.000000</td>\n",
       "      <td>0.000000</td>\n",
       "      <td>0.000000</td>\n",
       "      <td>0.0</td>\n",
       "      <td>0.000000</td>\n",
       "      <td>...</td>\n",
       "      <td>0.000000</td>\n",
       "      <td>0.000000</td>\n",
       "      <td>0.000000</td>\n",
       "      <td>5.698582</td>\n",
       "      <td>9.643752</td>\n",
       "      <td>0.713843</td>\n",
       "      <td>0.517118</td>\n",
       "      <td>156</td>\n",
       "      <td>3</td>\n",
       "      <td>False</td>\n",
       "    </tr>\n",
       "    <tr>\n",
       "      <th>1294</th>\n",
       "      <td>0.0</td>\n",
       "      <td>0.000000</td>\n",
       "      <td>0.000000</td>\n",
       "      <td>0.000000</td>\n",
       "      <td>0.000000</td>\n",
       "      <td>0.000000</td>\n",
       "      <td>0.000000</td>\n",
       "      <td>16.485143</td>\n",
       "      <td>0.0</td>\n",
       "      <td>0.000000</td>\n",
       "      <td>...</td>\n",
       "      <td>0.000000</td>\n",
       "      <td>0.000000</td>\n",
       "      <td>0.000000</td>\n",
       "      <td>5.339617</td>\n",
       "      <td>14.000677</td>\n",
       "      <td>0.885532</td>\n",
       "      <td>0.352660</td>\n",
       "      <td>25</td>\n",
       "      <td>5</td>\n",
       "      <td>False</td>\n",
       "    </tr>\n",
       "    <tr>\n",
       "      <th>860</th>\n",
       "      <td>0.0</td>\n",
       "      <td>0.000000</td>\n",
       "      <td>0.000000</td>\n",
       "      <td>0.213665</td>\n",
       "      <td>0.000000</td>\n",
       "      <td>0.000000</td>\n",
       "      <td>0.000000</td>\n",
       "      <td>0.000000</td>\n",
       "      <td>0.0</td>\n",
       "      <td>0.000000</td>\n",
       "      <td>...</td>\n",
       "      <td>0.000000</td>\n",
       "      <td>0.000000</td>\n",
       "      <td>0.000000</td>\n",
       "      <td>5.363055</td>\n",
       "      <td>15.796771</td>\n",
       "      <td>0.800077</td>\n",
       "      <td>0.337709</td>\n",
       "      <td>1</td>\n",
       "      <td>7</td>\n",
       "      <td>False</td>\n",
       "    </tr>\n",
       "  </tbody>\n",
       "</table>\n",
       "<p>1665 rows × 245 columns</p>\n",
       "</div>"
      ],
      "text/plain": [
       "      mean SOAP_2688  std_dev SOAP_2499  std_dev SOAP_4434  mean SOAP_4924  \\\n",
       "1917             0.0           0.000000           0.000000        0.000000   \n",
       "1827             0.0           0.000000           0.000000        0.000000   \n",
       "352              0.0           0.000000           0.000000        0.000000   \n",
       "91               0.0           0.000000           0.000000        0.000000   \n",
       "1868             0.0           0.001776           0.000000        0.000000   \n",
       "...              ...                ...                ...             ...   \n",
       "1638             0.0           0.000000           0.006905        0.000000   \n",
       "1095             0.0           0.000000           0.000000        0.000000   \n",
       "1130             0.0           0.000000           0.000000        0.000000   \n",
       "1294             0.0           0.000000           0.000000        0.000000   \n",
       "860              0.0           0.000000           0.000000        0.213665   \n",
       "\n",
       "      mean SOAP_4735  mean SOAP_1364  mean SOAP_320  std_dev SOAP_5898  \\\n",
       "1917        0.000000        0.000000       0.000000           0.000000   \n",
       "1827        0.000000        0.000000       0.000000           0.000000   \n",
       "352         0.000000        0.010073       0.000000           0.000000   \n",
       "91         -0.088388        0.000000       0.029132           0.000000   \n",
       "1868        0.000000        0.000000       0.000000           0.000000   \n",
       "...              ...             ...            ...                ...   \n",
       "1638        0.000000        0.000000       0.000000           0.000000   \n",
       "1095        0.000000        0.000000       0.000000           0.000000   \n",
       "1130        0.000000        0.000000       0.000000           0.000000   \n",
       "1294        0.000000        0.000000       0.000000          16.485143   \n",
       "860         0.000000        0.000000       0.000000           0.000000   \n",
       "\n",
       "      std_dev SOAP_1764  mean SOAP_5470  ...  sine coulomb matrix eig 293  \\\n",
       "1917                0.0        0.000000  ...                    44.301388   \n",
       "1827                0.0       -0.089515  ...                     0.000000   \n",
       "352                 0.0       -0.016928  ...                    61.545370   \n",
       "91                  0.0        0.000000  ...                    59.899083   \n",
       "1868                0.0        0.000000  ...                    56.641210   \n",
       "...                 ...             ...  ...                          ...   \n",
       "1638                0.0        0.000000  ...                    65.391600   \n",
       "1095                0.0        0.000000  ...                     0.000000   \n",
       "1130                0.0        0.000000  ...                     0.000000   \n",
       "1294                0.0        0.000000  ...                     0.000000   \n",
       "860                 0.0        0.000000  ...                     0.000000   \n",
       "\n",
       "      sine coulomb matrix eig 335  sine coulomb matrix eig 401   density  \\\n",
       "1917                    50.295898                    53.749478  7.340130   \n",
       "1827                     0.000000                     0.000000  5.662070   \n",
       "352                     53.717163                     0.000000  5.551771   \n",
       "91                       0.000000                     0.000000  5.085798   \n",
       "1868                     0.000000                     0.000000  6.587255   \n",
       "...                           ...                          ...       ...   \n",
       "1638                    55.273140                    61.643390  4.768546   \n",
       "1095                     0.000000                     0.000000  3.568996   \n",
       "1130                     0.000000                     0.000000  5.698582   \n",
       "1294                     0.000000                     0.000000  5.339617   \n",
       "860                      0.000000                     0.000000  5.363055   \n",
       "\n",
       "            vpa  packing fraction  max packing efficiency  spacegroup_num  \\\n",
       "1917  11.959952          0.410482                0.300958               1   \n",
       "1827  16.106118          0.733155                0.311252               1   \n",
       "352   11.513054          0.685517                0.379453               1   \n",
       "91    12.389093          0.794698                0.277284               8   \n",
       "1868  15.571968          0.641528                0.265092               1   \n",
       "...         ...               ...                     ...             ...   \n",
       "1638  15.467348          0.614265                0.295605               1   \n",
       "1095  10.449835          0.733639                0.404477               3   \n",
       "1130   9.643752          0.713843                0.517118             156   \n",
       "1294  14.000677          0.885532                0.352660              25   \n",
       "860   15.796771          0.800077                0.337709               1   \n",
       "\n",
       "      crystal_system_int  is_centrosymmetric  \n",
       "1917                   7               False  \n",
       "1827                   7               False  \n",
       "352                    7               False  \n",
       "91                     6               False  \n",
       "1868                   7               False  \n",
       "...                  ...                 ...  \n",
       "1638                   7               False  \n",
       "1095                   6               False  \n",
       "1130                   3               False  \n",
       "1294                   5               False  \n",
       "860                    7               False  \n",
       "\n",
       "[1665 rows x 245 columns]"
      ]
     },
     "execution_count": 46,
     "metadata": {},
     "output_type": "execute_result"
    }
   ],
   "source": [
    "df_soap_scd"
   ]
  },
  {
   "cell_type": "markdown",
   "id": "3861259d-cf03-4a29-a9e7-6b515bf45c2d",
   "metadata": {
    "tags": []
   },
   "source": [
    "# SOAP + CrystalNN"
   ]
  },
  {
   "cell_type": "code",
   "execution_count": 9,
   "id": "84358099-1eb1-4bc4-911a-2e5efa190e77",
   "metadata": {},
   "outputs": [],
   "source": [
    "df_c = pd.read_pickle(\"defect_df_cnn_5\")\n",
    "df_c_reduced = df_c[df_c[\"defect_formation_energy\"] > 0]"
   ]
  },
  {
   "cell_type": "code",
   "execution_count": 10,
   "id": "1304be09-19ac-4780-9465-0c96b60c2428",
   "metadata": {},
   "outputs": [],
   "source": [
    "df_c_reduced = df_c_reduced.drop([\"name\",\"formula\",\"mp_id\", \"host_structure\", \"defect_index\", \"defect_structure_relaxed\", \"defect_structure_original\",\"defect_formation_energy\"],axis=1)\n",
    "\n",
    "df_c_reduced = corr_reduction(df_c_reduced.corr(),0.9, df_c_reduced)"
   ]
  },
  {
   "cell_type": "code",
   "execution_count": 11,
   "id": "36047fa8-4b5a-40ee-9663-a036f03d9072",
   "metadata": {},
   "outputs": [],
   "source": [
    "df_soap_c = df_soap_reduced20.join(df_c_reduced)"
   ]
  },
  {
   "cell_type": "code",
   "execution_count": 12,
   "id": "84e39eb2-bef5-4bf7-89b6-732c08527967",
   "metadata": {},
   "outputs": [
    {
     "data": {
      "text/html": [
       "<div>\n",
       "<style scoped>\n",
       "    .dataframe tbody tr th:only-of-type {\n",
       "        vertical-align: middle;\n",
       "    }\n",
       "\n",
       "    .dataframe tbody tr th {\n",
       "        vertical-align: top;\n",
       "    }\n",
       "\n",
       "    .dataframe thead th {\n",
       "        text-align: right;\n",
       "    }\n",
       "</style>\n",
       "<table border=\"1\" class=\"dataframe\">\n",
       "  <thead>\n",
       "    <tr style=\"text-align: right;\">\n",
       "      <th></th>\n",
       "      <th>mean SOAP_2688</th>\n",
       "      <th>std_dev SOAP_2499</th>\n",
       "      <th>std_dev SOAP_4434</th>\n",
       "      <th>mean SOAP_4924</th>\n",
       "      <th>mean SOAP_4735</th>\n",
       "      <th>mean SOAP_1364</th>\n",
       "      <th>mean SOAP_320</th>\n",
       "      <th>std_dev SOAP_5898</th>\n",
       "      <th>std_dev SOAP_1764</th>\n",
       "      <th>mean SOAP_5470</th>\n",
       "      <th>...</th>\n",
       "      <th>mean wt CN_16</th>\n",
       "      <th>mean wt CN_17</th>\n",
       "      <th>mean wt CN_18</th>\n",
       "      <th>mean wt CN_19</th>\n",
       "      <th>mean wt CN_20</th>\n",
       "      <th>mean wt CN_21</th>\n",
       "      <th>mean wt CN_22</th>\n",
       "      <th>mean wt CN_23</th>\n",
       "      <th>std_dev wt CN_23</th>\n",
       "      <th>mean wt CN_24</th>\n",
       "    </tr>\n",
       "  </thead>\n",
       "  <tbody>\n",
       "    <tr>\n",
       "      <th>1917</th>\n",
       "      <td>0.0</td>\n",
       "      <td>0.000000</td>\n",
       "      <td>0.0</td>\n",
       "      <td>0.0</td>\n",
       "      <td>0.000000</td>\n",
       "      <td>0.000000</td>\n",
       "      <td>0.000000</td>\n",
       "      <td>0.0</td>\n",
       "      <td>0.0</td>\n",
       "      <td>0.000000</td>\n",
       "      <td>...</td>\n",
       "      <td>0.000000</td>\n",
       "      <td>0.000000</td>\n",
       "      <td>0.000000</td>\n",
       "      <td>0.0</td>\n",
       "      <td>0.0</td>\n",
       "      <td>0.0</td>\n",
       "      <td>0.0</td>\n",
       "      <td>0.0</td>\n",
       "      <td>0.0</td>\n",
       "      <td>0.0</td>\n",
       "    </tr>\n",
       "    <tr>\n",
       "      <th>1827</th>\n",
       "      <td>0.0</td>\n",
       "      <td>0.000000</td>\n",
       "      <td>0.0</td>\n",
       "      <td>0.0</td>\n",
       "      <td>0.000000</td>\n",
       "      <td>0.000000</td>\n",
       "      <td>0.000000</td>\n",
       "      <td>0.0</td>\n",
       "      <td>0.0</td>\n",
       "      <td>-0.089515</td>\n",
       "      <td>...</td>\n",
       "      <td>0.000000</td>\n",
       "      <td>0.000000</td>\n",
       "      <td>0.000000</td>\n",
       "      <td>0.0</td>\n",
       "      <td>0.0</td>\n",
       "      <td>0.0</td>\n",
       "      <td>0.0</td>\n",
       "      <td>0.0</td>\n",
       "      <td>0.0</td>\n",
       "      <td>0.0</td>\n",
       "    </tr>\n",
       "    <tr>\n",
       "      <th>352</th>\n",
       "      <td>0.0</td>\n",
       "      <td>0.000000</td>\n",
       "      <td>0.0</td>\n",
       "      <td>0.0</td>\n",
       "      <td>0.000000</td>\n",
       "      <td>0.010073</td>\n",
       "      <td>0.000000</td>\n",
       "      <td>0.0</td>\n",
       "      <td>0.0</td>\n",
       "      <td>-0.016928</td>\n",
       "      <td>...</td>\n",
       "      <td>0.000007</td>\n",
       "      <td>0.000000</td>\n",
       "      <td>0.000000</td>\n",
       "      <td>0.0</td>\n",
       "      <td>0.0</td>\n",
       "      <td>0.0</td>\n",
       "      <td>0.0</td>\n",
       "      <td>0.0</td>\n",
       "      <td>0.0</td>\n",
       "      <td>0.0</td>\n",
       "    </tr>\n",
       "    <tr>\n",
       "      <th>91</th>\n",
       "      <td>0.0</td>\n",
       "      <td>0.000000</td>\n",
       "      <td>0.0</td>\n",
       "      <td>0.0</td>\n",
       "      <td>-0.088388</td>\n",
       "      <td>0.000000</td>\n",
       "      <td>0.029132</td>\n",
       "      <td>0.0</td>\n",
       "      <td>0.0</td>\n",
       "      <td>0.000000</td>\n",
       "      <td>...</td>\n",
       "      <td>0.006133</td>\n",
       "      <td>0.000245</td>\n",
       "      <td>0.000009</td>\n",
       "      <td>0.0</td>\n",
       "      <td>0.0</td>\n",
       "      <td>0.0</td>\n",
       "      <td>0.0</td>\n",
       "      <td>0.0</td>\n",
       "      <td>0.0</td>\n",
       "      <td>0.0</td>\n",
       "    </tr>\n",
       "    <tr>\n",
       "      <th>1868</th>\n",
       "      <td>0.0</td>\n",
       "      <td>0.001776</td>\n",
       "      <td>0.0</td>\n",
       "      <td>0.0</td>\n",
       "      <td>0.000000</td>\n",
       "      <td>0.000000</td>\n",
       "      <td>0.000000</td>\n",
       "      <td>0.0</td>\n",
       "      <td>0.0</td>\n",
       "      <td>0.000000</td>\n",
       "      <td>...</td>\n",
       "      <td>0.000000</td>\n",
       "      <td>0.000000</td>\n",
       "      <td>0.000000</td>\n",
       "      <td>0.0</td>\n",
       "      <td>0.0</td>\n",
       "      <td>0.0</td>\n",
       "      <td>0.0</td>\n",
       "      <td>0.0</td>\n",
       "      <td>0.0</td>\n",
       "      <td>0.0</td>\n",
       "    </tr>\n",
       "  </tbody>\n",
       "</table>\n",
       "<p>5 rows × 271 columns</p>\n",
       "</div>"
      ],
      "text/plain": [
       "      mean SOAP_2688  std_dev SOAP_2499  std_dev SOAP_4434  mean SOAP_4924  \\\n",
       "1917             0.0           0.000000                0.0             0.0   \n",
       "1827             0.0           0.000000                0.0             0.0   \n",
       "352              0.0           0.000000                0.0             0.0   \n",
       "91               0.0           0.000000                0.0             0.0   \n",
       "1868             0.0           0.001776                0.0             0.0   \n",
       "\n",
       "      mean SOAP_4735  mean SOAP_1364  mean SOAP_320  std_dev SOAP_5898  \\\n",
       "1917        0.000000        0.000000       0.000000                0.0   \n",
       "1827        0.000000        0.000000       0.000000                0.0   \n",
       "352         0.000000        0.010073       0.000000                0.0   \n",
       "91         -0.088388        0.000000       0.029132                0.0   \n",
       "1868        0.000000        0.000000       0.000000                0.0   \n",
       "\n",
       "      std_dev SOAP_1764  mean SOAP_5470  ...  mean wt CN_16  mean wt CN_17  \\\n",
       "1917                0.0        0.000000  ...       0.000000       0.000000   \n",
       "1827                0.0       -0.089515  ...       0.000000       0.000000   \n",
       "352                 0.0       -0.016928  ...       0.000007       0.000000   \n",
       "91                  0.0        0.000000  ...       0.006133       0.000245   \n",
       "1868                0.0        0.000000  ...       0.000000       0.000000   \n",
       "\n",
       "      mean wt CN_18  mean wt CN_19  mean wt CN_20  mean wt CN_21  \\\n",
       "1917       0.000000            0.0            0.0            0.0   \n",
       "1827       0.000000            0.0            0.0            0.0   \n",
       "352        0.000000            0.0            0.0            0.0   \n",
       "91         0.000009            0.0            0.0            0.0   \n",
       "1868       0.000000            0.0            0.0            0.0   \n",
       "\n",
       "      mean wt CN_22  mean wt CN_23  std_dev wt CN_23  mean wt CN_24  \n",
       "1917            0.0            0.0               0.0            0.0  \n",
       "1827            0.0            0.0               0.0            0.0  \n",
       "352             0.0            0.0               0.0            0.0  \n",
       "91              0.0            0.0               0.0            0.0  \n",
       "1868            0.0            0.0               0.0            0.0  \n",
       "\n",
       "[5 rows x 271 columns]"
      ]
     },
     "execution_count": 12,
     "metadata": {},
     "output_type": "execute_result"
    }
   ],
   "source": [
    "df_soap_c.head()"
   ]
  },
  {
   "cell_type": "code",
   "execution_count": 13,
   "id": "1da87810-39ad-4df5-b242-0f20dd8efc06",
   "metadata": {},
   "outputs": [],
   "source": [
    "out_soap_c = cross_validate(rf_soap_cv, df_soap_c, y, cv = kf, scoring = 'neg_root_mean_squared_error', return_estimator = True)\n"
   ]
  },
  {
   "cell_type": "code",
   "execution_count": 37,
   "id": "8c9dd3fb-409f-4add-bafb-dba7b8d853b3",
   "metadata": {},
   "outputs": [
    {
     "data": {
      "text/plain": [
       "-0.7162662792077686"
      ]
     },
     "execution_count": 37,
     "metadata": {},
     "output_type": "execute_result"
    }
   ],
   "source": [
    "out_soap_c['test_score'].mean()"
   ]
  },
  {
   "cell_type": "code",
   "execution_count": 17,
   "id": "6a1ce791-8185-4c32-8603-41acf94a2e7d",
   "metadata": {},
   "outputs": [
    {
     "name": "stderr",
     "output_type": "stream",
     "text": [
      "/home/saaj/miniconda3/envs/matminer/lib/python3.8/site-packages/xgboost/data.py:250: FutureWarning: pandas.Int64Index is deprecated and will be removed from pandas in a future version. Use pandas.Index with the appropriate dtype instead.\n",
      "  elif isinstance(data.columns, (pd.Int64Index, pd.RangeIndex)):\n",
      "/home/saaj/miniconda3/envs/matminer/lib/python3.8/site-packages/xgboost/data.py:250: FutureWarning: pandas.Int64Index is deprecated and will be removed from pandas in a future version. Use pandas.Index with the appropriate dtype instead.\n",
      "  elif isinstance(data.columns, (pd.Int64Index, pd.RangeIndex)):\n",
      "/home/saaj/miniconda3/envs/matminer/lib/python3.8/site-packages/xgboost/data.py:250: FutureWarning: pandas.Int64Index is deprecated and will be removed from pandas in a future version. Use pandas.Index with the appropriate dtype instead.\n",
      "  elif isinstance(data.columns, (pd.Int64Index, pd.RangeIndex)):\n",
      "/home/saaj/miniconda3/envs/matminer/lib/python3.8/site-packages/xgboost/data.py:250: FutureWarning: pandas.Int64Index is deprecated and will be removed from pandas in a future version. Use pandas.Index with the appropriate dtype instead.\n",
      "  elif isinstance(data.columns, (pd.Int64Index, pd.RangeIndex)):\n",
      "/home/saaj/miniconda3/envs/matminer/lib/python3.8/site-packages/xgboost/data.py:250: FutureWarning: pandas.Int64Index is deprecated and will be removed from pandas in a future version. Use pandas.Index with the appropriate dtype instead.\n",
      "  elif isinstance(data.columns, (pd.Int64Index, pd.RangeIndex)):\n"
     ]
    }
   ],
   "source": [
    "out_c_gbr = cross_validate(xgbr, df_soap_c, y, cv = kf, scoring = 'neg_root_mean_squared_error', return_estimator = True,error_score = 'raise')"
   ]
  },
  {
   "cell_type": "code",
   "execution_count": 18,
   "id": "87f21751-6050-413e-b045-72a1fa9c3b43",
   "metadata": {},
   "outputs": [
    {
     "data": {
      "text/plain": [
       "-0.6287867176955302"
      ]
     },
     "execution_count": 18,
     "metadata": {},
     "output_type": "execute_result"
    }
   ],
   "source": [
    "out_c_gbr['test_score'].mean()"
   ]
  },
  {
   "cell_type": "markdown",
   "id": "44a6e2c0-f840-4024-9b03-cc824a98c475",
   "metadata": {
    "tags": []
   },
   "source": [
    "# SOAP + Minor Featurisation"
   ]
  },
  {
   "cell_type": "code",
   "execution_count": null,
   "id": "d0a4ec69-01a6-44f4-99b5-4ed3a295f410",
   "metadata": {},
   "outputs": [],
   "source": []
  },
  {
   "cell_type": "code",
   "execution_count": 19,
   "id": "8fd3e81e-8f22-4c95-968f-68e4c769787a",
   "metadata": {},
   "outputs": [],
   "source": [
    "df_d = pd.read_pickle(\"df_d_mpe_gs.pkl\")\n",
    "df_d_reduced = df_d[df_d[\"defect_formation_energy\"] > 0]"
   ]
  },
  {
   "cell_type": "code",
   "execution_count": 20,
   "id": "debe05f3-a284-4420-8629-70da2e8da64c",
   "metadata": {},
   "outputs": [],
   "source": [
    "df_d_reduced = df_d_reduced.drop([\"name\",\"formula\",\"mp_id\", \"host_structure\", \"defect_index\", \"defect_structure_relaxed\", \"defect_structure_original\",\"defect_formation_energy\"],axis=1)\n",
    "\n",
    "# df_cm_reduced = corr_reduction(df_cm_reduced.corr(),0.9, df_cm_reduced)"
   ]
  },
  {
   "cell_type": "code",
   "execution_count": 21,
   "id": "f1265e8b-ffb2-4dcf-a6f1-594bfe6a63cf",
   "metadata": {},
   "outputs": [],
   "source": [
    "df_soap_d = df_soap_reduced20.join(df_d_reduced)"
   ]
  },
  {
   "cell_type": "code",
   "execution_count": 22,
   "id": "f6d766b7-ede7-402e-ba4b-40ef10d7e3cc",
   "metadata": {},
   "outputs": [],
   "source": [
    "df_soap_d = df_soap_d.drop([\"crystal_system\"], axis = 1)"
   ]
  },
  {
   "cell_type": "code",
   "execution_count": 39,
   "id": "59cabcef-da0f-42ab-ae2a-6e89dc1c18d0",
   "metadata": {},
   "outputs": [
    {
     "data": {
      "text/html": [
       "<div>\n",
       "<style scoped>\n",
       "    .dataframe tbody tr th:only-of-type {\n",
       "        vertical-align: middle;\n",
       "    }\n",
       "\n",
       "    .dataframe tbody tr th {\n",
       "        vertical-align: top;\n",
       "    }\n",
       "\n",
       "    .dataframe thead th {\n",
       "        text-align: right;\n",
       "    }\n",
       "</style>\n",
       "<table border=\"1\" class=\"dataframe\">\n",
       "  <thead>\n",
       "    <tr style=\"text-align: right;\">\n",
       "      <th></th>\n",
       "      <th>mean SOAP_2688</th>\n",
       "      <th>std_dev SOAP_2499</th>\n",
       "      <th>std_dev SOAP_4434</th>\n",
       "      <th>mean SOAP_4924</th>\n",
       "      <th>mean SOAP_4735</th>\n",
       "      <th>mean SOAP_1364</th>\n",
       "      <th>mean SOAP_320</th>\n",
       "      <th>std_dev SOAP_5898</th>\n",
       "      <th>std_dev SOAP_1764</th>\n",
       "      <th>mean SOAP_5470</th>\n",
       "      <th>...</th>\n",
       "      <th>std_dev SOAP_4428</th>\n",
       "      <th>std_dev SOAP_456</th>\n",
       "      <th>std_dev SOAP_449</th>\n",
       "      <th>density</th>\n",
       "      <th>vpa</th>\n",
       "      <th>packing fraction</th>\n",
       "      <th>max packing efficiency</th>\n",
       "      <th>spacegroup_num</th>\n",
       "      <th>crystal_system_int</th>\n",
       "      <th>is_centrosymmetric</th>\n",
       "    </tr>\n",
       "  </thead>\n",
       "  <tbody>\n",
       "    <tr>\n",
       "      <th>1917</th>\n",
       "      <td>0.0</td>\n",
       "      <td>0.000000</td>\n",
       "      <td>0.0</td>\n",
       "      <td>0.0</td>\n",
       "      <td>0.000000</td>\n",
       "      <td>0.000000</td>\n",
       "      <td>0.000000</td>\n",
       "      <td>0.0</td>\n",
       "      <td>0.0</td>\n",
       "      <td>0.000000</td>\n",
       "      <td>...</td>\n",
       "      <td>0.0</td>\n",
       "      <td>27.717178</td>\n",
       "      <td>5.744461</td>\n",
       "      <td>7.340130</td>\n",
       "      <td>11.959952</td>\n",
       "      <td>0.410482</td>\n",
       "      <td>0.300958</td>\n",
       "      <td>1</td>\n",
       "      <td>7</td>\n",
       "      <td>False</td>\n",
       "    </tr>\n",
       "    <tr>\n",
       "      <th>1827</th>\n",
       "      <td>0.0</td>\n",
       "      <td>0.000000</td>\n",
       "      <td>0.0</td>\n",
       "      <td>0.0</td>\n",
       "      <td>0.000000</td>\n",
       "      <td>0.000000</td>\n",
       "      <td>0.000000</td>\n",
       "      <td>0.0</td>\n",
       "      <td>0.0</td>\n",
       "      <td>-0.089515</td>\n",
       "      <td>...</td>\n",
       "      <td>0.0</td>\n",
       "      <td>40.513252</td>\n",
       "      <td>5.710964</td>\n",
       "      <td>5.662070</td>\n",
       "      <td>16.106118</td>\n",
       "      <td>0.733155</td>\n",
       "      <td>0.311252</td>\n",
       "      <td>1</td>\n",
       "      <td>7</td>\n",
       "      <td>False</td>\n",
       "    </tr>\n",
       "    <tr>\n",
       "      <th>352</th>\n",
       "      <td>0.0</td>\n",
       "      <td>0.000000</td>\n",
       "      <td>0.0</td>\n",
       "      <td>0.0</td>\n",
       "      <td>0.000000</td>\n",
       "      <td>0.010073</td>\n",
       "      <td>0.000000</td>\n",
       "      <td>0.0</td>\n",
       "      <td>0.0</td>\n",
       "      <td>-0.016928</td>\n",
       "      <td>...</td>\n",
       "      <td>0.0</td>\n",
       "      <td>46.292114</td>\n",
       "      <td>7.228235</td>\n",
       "      <td>5.551771</td>\n",
       "      <td>11.513054</td>\n",
       "      <td>0.685517</td>\n",
       "      <td>0.379453</td>\n",
       "      <td>1</td>\n",
       "      <td>7</td>\n",
       "      <td>False</td>\n",
       "    </tr>\n",
       "    <tr>\n",
       "      <th>91</th>\n",
       "      <td>0.0</td>\n",
       "      <td>0.000000</td>\n",
       "      <td>0.0</td>\n",
       "      <td>0.0</td>\n",
       "      <td>-0.088388</td>\n",
       "      <td>0.000000</td>\n",
       "      <td>0.029132</td>\n",
       "      <td>0.0</td>\n",
       "      <td>0.0</td>\n",
       "      <td>0.000000</td>\n",
       "      <td>...</td>\n",
       "      <td>0.0</td>\n",
       "      <td>49.100141</td>\n",
       "      <td>7.180411</td>\n",
       "      <td>5.085798</td>\n",
       "      <td>12.389093</td>\n",
       "      <td>0.794698</td>\n",
       "      <td>0.277284</td>\n",
       "      <td>8</td>\n",
       "      <td>6</td>\n",
       "      <td>False</td>\n",
       "    </tr>\n",
       "    <tr>\n",
       "      <th>1868</th>\n",
       "      <td>0.0</td>\n",
       "      <td>0.001776</td>\n",
       "      <td>0.0</td>\n",
       "      <td>0.0</td>\n",
       "      <td>0.000000</td>\n",
       "      <td>0.000000</td>\n",
       "      <td>0.000000</td>\n",
       "      <td>0.0</td>\n",
       "      <td>0.0</td>\n",
       "      <td>0.000000</td>\n",
       "      <td>...</td>\n",
       "      <td>0.0</td>\n",
       "      <td>39.588382</td>\n",
       "      <td>6.194458</td>\n",
       "      <td>6.587255</td>\n",
       "      <td>15.571968</td>\n",
       "      <td>0.641528</td>\n",
       "      <td>0.265092</td>\n",
       "      <td>1</td>\n",
       "      <td>7</td>\n",
       "      <td>False</td>\n",
       "    </tr>\n",
       "  </tbody>\n",
       "</table>\n",
       "<p>5 rows × 224 columns</p>\n",
       "</div>"
      ],
      "text/plain": [
       "      mean SOAP_2688  std_dev SOAP_2499  std_dev SOAP_4434  mean SOAP_4924  \\\n",
       "1917             0.0           0.000000                0.0             0.0   \n",
       "1827             0.0           0.000000                0.0             0.0   \n",
       "352              0.0           0.000000                0.0             0.0   \n",
       "91               0.0           0.000000                0.0             0.0   \n",
       "1868             0.0           0.001776                0.0             0.0   \n",
       "\n",
       "      mean SOAP_4735  mean SOAP_1364  mean SOAP_320  std_dev SOAP_5898  \\\n",
       "1917        0.000000        0.000000       0.000000                0.0   \n",
       "1827        0.000000        0.000000       0.000000                0.0   \n",
       "352         0.000000        0.010073       0.000000                0.0   \n",
       "91         -0.088388        0.000000       0.029132                0.0   \n",
       "1868        0.000000        0.000000       0.000000                0.0   \n",
       "\n",
       "      std_dev SOAP_1764  mean SOAP_5470  ...  std_dev SOAP_4428  \\\n",
       "1917                0.0        0.000000  ...                0.0   \n",
       "1827                0.0       -0.089515  ...                0.0   \n",
       "352                 0.0       -0.016928  ...                0.0   \n",
       "91                  0.0        0.000000  ...                0.0   \n",
       "1868                0.0        0.000000  ...                0.0   \n",
       "\n",
       "      std_dev SOAP_456  std_dev SOAP_449   density        vpa  \\\n",
       "1917         27.717178          5.744461  7.340130  11.959952   \n",
       "1827         40.513252          5.710964  5.662070  16.106118   \n",
       "352          46.292114          7.228235  5.551771  11.513054   \n",
       "91           49.100141          7.180411  5.085798  12.389093   \n",
       "1868         39.588382          6.194458  6.587255  15.571968   \n",
       "\n",
       "      packing fraction  max packing efficiency  spacegroup_num  \\\n",
       "1917          0.410482                0.300958               1   \n",
       "1827          0.733155                0.311252               1   \n",
       "352           0.685517                0.379453               1   \n",
       "91            0.794698                0.277284               8   \n",
       "1868          0.641528                0.265092               1   \n",
       "\n",
       "      crystal_system_int  is_centrosymmetric  \n",
       "1917                   7               False  \n",
       "1827                   7               False  \n",
       "352                    7               False  \n",
       "91                     6               False  \n",
       "1868                   7               False  \n",
       "\n",
       "[5 rows x 224 columns]"
      ]
     },
     "execution_count": 39,
     "metadata": {},
     "output_type": "execute_result"
    }
   ],
   "source": [
    "df_soap_d.head()"
   ]
  },
  {
   "cell_type": "code",
   "execution_count": 24,
   "id": "f546a1e9-dcdb-48d1-89ec-632ef35fa43f",
   "metadata": {},
   "outputs": [],
   "source": [
    "out_soap_d = cross_validate(rf_soap_cv, df_soap_d, y, cv = kf, scoring = 'neg_root_mean_squared_error', return_estimator = True)\n"
   ]
  },
  {
   "cell_type": "code",
   "execution_count": 25,
   "id": "319b2f44-be8b-422e-a738-257a0ab0e984",
   "metadata": {},
   "outputs": [
    {
     "data": {
      "text/plain": [
       "-0.6904659048948119"
      ]
     },
     "execution_count": 25,
     "metadata": {},
     "output_type": "execute_result"
    }
   ],
   "source": [
    "out_soap_d['test_score'].mean()"
   ]
  },
  {
   "cell_type": "code",
   "execution_count": 27,
   "id": "9db1c7c6-0bd0-44ae-a47d-16f4774533ce",
   "metadata": {},
   "outputs": [
    {
     "name": "stderr",
     "output_type": "stream",
     "text": [
      "/home/saaj/miniconda3/envs/matminer/lib/python3.8/site-packages/xgboost/data.py:250: FutureWarning: pandas.Int64Index is deprecated and will be removed from pandas in a future version. Use pandas.Index with the appropriate dtype instead.\n",
      "  elif isinstance(data.columns, (pd.Int64Index, pd.RangeIndex)):\n",
      "/home/saaj/miniconda3/envs/matminer/lib/python3.8/site-packages/xgboost/data.py:250: FutureWarning: pandas.Int64Index is deprecated and will be removed from pandas in a future version. Use pandas.Index with the appropriate dtype instead.\n",
      "  elif isinstance(data.columns, (pd.Int64Index, pd.RangeIndex)):\n",
      "/home/saaj/miniconda3/envs/matminer/lib/python3.8/site-packages/xgboost/data.py:250: FutureWarning: pandas.Int64Index is deprecated and will be removed from pandas in a future version. Use pandas.Index with the appropriate dtype instead.\n",
      "  elif isinstance(data.columns, (pd.Int64Index, pd.RangeIndex)):\n",
      "/home/saaj/miniconda3/envs/matminer/lib/python3.8/site-packages/xgboost/data.py:250: FutureWarning: pandas.Int64Index is deprecated and will be removed from pandas in a future version. Use pandas.Index with the appropriate dtype instead.\n",
      "  elif isinstance(data.columns, (pd.Int64Index, pd.RangeIndex)):\n",
      "/home/saaj/miniconda3/envs/matminer/lib/python3.8/site-packages/xgboost/data.py:250: FutureWarning: pandas.Int64Index is deprecated and will be removed from pandas in a future version. Use pandas.Index with the appropriate dtype instead.\n",
      "  elif isinstance(data.columns, (pd.Int64Index, pd.RangeIndex)):\n"
     ]
    }
   ],
   "source": [
    "out_d_gbr = cross_validate(xgbr, df_soap_d, y, cv = kf, scoring = 'neg_root_mean_squared_error', return_estimator = True,error_score = 'raise')"
   ]
  },
  {
   "cell_type": "code",
   "execution_count": 38,
   "id": "2090b389-c991-477a-8547-aea5e2d75d59",
   "metadata": {},
   "outputs": [
    {
     "data": {
      "text/plain": [
       "-0.6323743470677583"
      ]
     },
     "execution_count": 38,
     "metadata": {},
     "output_type": "execute_result"
    }
   ],
   "source": [
    "out_d_gbr['test_score'].mean()"
   ]
  }
 ],
 "metadata": {
  "kernelspec": {
   "display_name": "Python 3 (ipykernel)",
   "language": "python",
   "name": "python3"
  },
  "language_info": {
   "codemirror_mode": {
    "name": "ipython",
    "version": 3
   },
   "file_extension": ".py",
   "mimetype": "text/x-python",
   "name": "python",
   "nbconvert_exporter": "python",
   "pygments_lexer": "ipython3",
   "version": "3.9.7"
  }
 },
 "nbformat": 4,
 "nbformat_minor": 5
}
