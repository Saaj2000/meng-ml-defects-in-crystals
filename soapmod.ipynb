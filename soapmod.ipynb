{
 "cells": [
  {
   "cell_type": "code",
   "execution_count": 2,
   "id": "5b91a50e-5d93-473e-b3d3-310396af8242",
   "metadata": {},
   "outputs": [],
   "source": [
    "import pandas as pd\n",
    "import numpy as np"
   ]
  },
  {
   "cell_type": "code",
   "execution_count": 3,
   "id": "45d975f3-ec77-4439-8cd9-6135d617f278",
   "metadata": {},
   "outputs": [],
   "source": [
    "df_soap = pd.read_pickle(\"./df_soapmod.pkl\")"
   ]
  },
  {
   "cell_type": "code",
   "execution_count": 4,
   "id": "a3073b4e-aa7d-4325-ab9c-22b66313db27",
   "metadata": {},
   "outputs": [],
   "source": [
    "df_soap = df_soap[df_soap[\"defect_formation_energy\"] > 0]\n",
    "\n",
    "df_soap_dropped = df_soap.drop([\"name\",\"formula\",\"mp_id\", \"host_structure\", \"defect_index\", \"defect_structure_relaxed\", \"defect_structure_original\",\"defect_formation_energy\"],axis=1)\n",
    "\n",
    "y = df_soap[\"defect_formation_energy\"]"
   ]
  },
  {
   "cell_type": "code",
   "execution_count": 5,
   "id": "17345ed2-e3db-47cb-a605-31eb16196b23",
   "metadata": {},
   "outputs": [
    {
     "data": {
      "text/plain": [
       "(1665, 656)"
      ]
     },
     "execution_count": 5,
     "metadata": {},
     "output_type": "execute_result"
    }
   ],
   "source": [
    "df_soap.shape"
   ]
  },
  {
   "cell_type": "code",
   "execution_count": 6,
   "id": "86ae4ced-fbac-42d0-ae28-2458b7d15d72",
   "metadata": {},
   "outputs": [],
   "source": [
    "def corr_reduction(corr, thresh, data):    \n",
    "    columns = np.full((corr.shape[0],), True, dtype=bool)\n",
    "    for i in range(corr.shape[0]):\n",
    "        for j in range(i+1, corr.shape[0]):\n",
    "            if corr.iloc[i,j] >= thresh:\n",
    "                if columns[j]:\n",
    "                    columns[j] = False\n",
    "    print(columns)\n",
    "    selected_columns = data.columns[columns]\n",
    "    data = data[selected_columns]\n",
    "    return data"
   ]
  },
  {
   "cell_type": "code",
   "execution_count": 7,
   "id": "e3a14dc5-8c53-4d51-8a38-2b721a4a67b6",
   "metadata": {
    "tags": []
   },
   "outputs": [
    {
     "name": "stdout",
     "output_type": "stream",
     "text": [
      "[ True  True  True  True  True  True  True  True  True  True  True  True\n",
      "  True  True  True  True False  True False False False False False False\n",
      " False False False False False False  True  True  True  True False False\n",
      "  True  True  True  True  True False  True  True False  True  True  True\n",
      "  True  True  True False  True  True  True  True  True  True False False\n",
      "  True  True False  True False  True False  True False False False  True\n",
      "  True  True  True  True  True  True  True  True  True  True  True  True\n",
      "  True  True  True  True  True False  True  True  True False  True  True\n",
      "  True  True  True  True  True  True  True False  True  True  True  True\n",
      "  True  True  True  True  True  True  True False  True  True  True  True\n",
      "  True  True  True  True  True  True  True  True  True  True  True  True\n",
      "  True  True  True  True  True  True  True  True  True  True  True  True\n",
      "  True  True  True  True  True  True  True  True  True  True  True  True\n",
      "  True  True  True  True  True False  True  True  True False  True  True\n",
      "  True  True  True  True  True  True  True  True  True  True  True  True\n",
      "  True  True  True  True  True  True  True  True  True  True  True  True\n",
      "  True  True  True  True  True  True  True  True  True  True  True  True\n",
      "  True  True  True  True  True  True  True  True  True  True  True  True\n",
      "  True  True  True False False  True  True  True  True  True  True  True\n",
      "  True  True  True  True  True  True  True  True  True  True  True  True\n",
      "  True  True  True  True  True  True False  True  True  True  True  True\n",
      "  True False  True  True  True  True  True  True  True  True  True  True\n",
      "  True  True  True  True  True  True  True  True  True  True  True  True\n",
      "  True  True  True  True  True  True  True  True  True  True  True  True\n",
      "  True  True  True False False False  True  True  True  True  True  True\n",
      "  True  True  True  True False False False False  True False  True False\n",
      "  True False  True False  True False False False  True  True  True  True\n",
      " False False False False False  True  True  True  True  True  True  True\n",
      "  True  True  True  True  True  True  True  True  True  True  True  True\n",
      "  True False  True  True  True  True  True  True  True  True  True  True\n",
      "  True  True  True False False False False False False False  True  True\n",
      "  True  True  True  True False False False False False False False False\n",
      "  True False  True False  True False False False False False False False\n",
      " False False False False False False  True  True  True False  True  True\n",
      "  True  True False  True False  True  True  True  True  True  True  True\n",
      "  True  True  True  True  True  True  True  True  True  True  True  True\n",
      "  True  True  True False False False False False False False  True  True\n",
      "  True  True  True  True False False False False False False False False\n",
      "  True False  True False  True False False False False False False False\n",
      " False False False False False False False False False False False False\n",
      " False  True False False False  True  True  True False  True False  True\n",
      "  True  True  True  True  True  True  True  True  True  True  True  True\n",
      "  True  True  True False False False False False False False  True  True\n",
      "  True  True  True  True False False False False False False False False\n",
      "  True False  True False  True False False False False False False False\n",
      " False False False False False False False False False False False False\n",
      " False False False False False  True False False False  True False False\n",
      "  True  True  True  True  True  True  True  True  True  True  True  True\n",
      "  True  True  True False False False False False False False  True  True\n",
      "  True  True  True  True False False False False False False False False\n",
      "  True False  True False  True False False False False False False False\n",
      " False False False False False False False False False False False False\n",
      " False False False False False False False False False False False False\n",
      "  True  True  True  True  True  True  True  True  True  True  True  True]\n"
     ]
    }
   ],
   "source": [
    "df_soap_reduced = corr_reduction(df_soap_dropped.corr(), 0.9, df_soap_dropped)\n"
   ]
  },
  {
   "cell_type": "code",
   "execution_count": 8,
   "id": "77c99eab-6b79-49ae-917c-d87d12272c51",
   "metadata": {},
   "outputs": [],
   "source": [
    "from sklearn.model_selection import KFold\n",
    "from sklearn.model_selection import cross_validate\n",
    "from sklearn.ensemble import RandomForestRegressor\n",
    "kf = KFold(n_splits = 5, shuffle = True, random_state = 42)\n",
    "\n",
    "rf_soap_cv = RandomForestRegressor()\n",
    "output_soap = cross_validate(rf_soap_cv, df_soap_reduced, y, cv = kf, scoring = 'neg_root_mean_squared_error', return_estimator = True)\n",
    "\n",
    "\n"
   ]
  },
  {
   "cell_type": "code",
   "execution_count": 9,
   "id": "6f647ac7-dfeb-4f6f-a133-256410385a3d",
   "metadata": {},
   "outputs": [
    {
     "data": {
      "text/plain": [
       "-0.8379588871792096"
      ]
     },
     "execution_count": 9,
     "metadata": {},
     "output_type": "execute_result"
    }
   ],
   "source": [
    "output_soap[\"test_score\"].mean()"
   ]
  },
  {
   "cell_type": "code",
   "execution_count": 10,
   "id": "256e47e7-a345-4274-982b-37bb3b6f65e7",
   "metadata": {},
   "outputs": [
    {
     "data": {
      "text/plain": [
       "(1665, 423)"
      ]
     },
     "execution_count": 10,
     "metadata": {},
     "output_type": "execute_result"
    }
   ],
   "source": [
    "df_soap_reduced.shape"
   ]
  },
  {
   "cell_type": "code",
   "execution_count": 11,
   "id": "ab1587c2-1db9-453f-972a-5cc9dd1024ce",
   "metadata": {},
   "outputs": [],
   "source": [
    "def extract_importances(output):\n",
    "    overall_cm = {}\n",
    "    for idx,estimator in enumerate(output['estimator']):\n",
    "        feature_importances = pd.DataFrame(estimator.feature_importances_,\n",
    "                                           index = estimator.feature_names_in_,\n",
    "                                            columns=['importance']).sort_values('importance', ascending=False)\n",
    "        feature_importances = feature_importances.rename(columns = {\"importance\":\"importance\" + str(idx)})\n",
    "        overall_cm[idx] = feature_importances\n",
    "\n",
    "\n",
    "    overall_cm_df = overall_cm[0]\n",
    "    overall_cm_df = overall_cm_df.merge(overall_cm[1], left_index = True, how = 'outer', right_index =True)\n",
    "    overall_cm_df = overall_cm_df.merge(overall_cm[2], left_index = True, how = 'outer', right_index =True)\n",
    "    overall_cm_df = overall_cm_df.merge(overall_cm[3], left_index = True, how = 'outer', right_index =True)\n",
    "    overall_cm_df = overall_cm_df.merge(overall_cm[4], left_index = True, how = 'outer', right_index =True)\n",
    "    overall_cm_df[\"average\"] = overall_cm_df.mean(axis = 1)\n",
    "    return overall_cm_df\n",
    "def iterative_remove(df_imp, df_data):\n",
    "    df_reduced = df_data\n",
    "    df_imp = df_imp.sort_values(\"average\")\n",
    "    idx = round(len(df_imp)*0.10)\n",
    "    df_imp = df_imp[idx:]\n",
    "    to_keep = df_imp.index.values.tolist()\n",
    "    df_reduced = df_data[to_keep]\n",
    "    return df_reduced"
   ]
  },
  {
   "cell_type": "code",
   "execution_count": 12,
   "id": "b8b2545f-6cf5-4172-8887-6e2afa367a27",
   "metadata": {},
   "outputs": [],
   "source": [
    "overall_soap_df = extract_importances(output_soap)"
   ]
  },
  {
   "cell_type": "code",
   "execution_count": 13,
   "id": "6901dc12-bc33-4dfe-a3f3-eaacaae538f0",
   "metadata": {},
   "outputs": [
    {
     "data": {
      "text/html": [
       "<div>\n",
       "<style scoped>\n",
       "    .dataframe tbody tr th:only-of-type {\n",
       "        vertical-align: middle;\n",
       "    }\n",
       "\n",
       "    .dataframe tbody tr th {\n",
       "        vertical-align: top;\n",
       "    }\n",
       "\n",
       "    .dataframe thead th {\n",
       "        text-align: right;\n",
       "    }\n",
       "</style>\n",
       "<table border=\"1\" class=\"dataframe\">\n",
       "  <thead>\n",
       "    <tr style=\"text-align: right;\">\n",
       "      <th></th>\n",
       "      <th>importance0</th>\n",
       "      <th>importance1</th>\n",
       "      <th>importance2</th>\n",
       "      <th>importance3</th>\n",
       "      <th>importance4</th>\n",
       "      <th>average</th>\n",
       "    </tr>\n",
       "  </thead>\n",
       "  <tbody>\n",
       "    <tr>\n",
       "      <th>mean SOAP_0</th>\n",
       "      <td>0.001037</td>\n",
       "      <td>0.001282</td>\n",
       "      <td>0.002351</td>\n",
       "      <td>0.001102</td>\n",
       "      <td>0.001132</td>\n",
       "      <td>0.001381</td>\n",
       "    </tr>\n",
       "    <tr>\n",
       "      <th>mean SOAP_1</th>\n",
       "      <td>0.001437</td>\n",
       "      <td>0.000519</td>\n",
       "      <td>0.001753</td>\n",
       "      <td>0.001993</td>\n",
       "      <td>0.002314</td>\n",
       "      <td>0.001603</td>\n",
       "    </tr>\n",
       "    <tr>\n",
       "      <th>mean SOAP_100</th>\n",
       "      <td>0.001482</td>\n",
       "      <td>0.000864</td>\n",
       "      <td>0.001148</td>\n",
       "      <td>0.000861</td>\n",
       "      <td>0.001897</td>\n",
       "      <td>0.001250</td>\n",
       "    </tr>\n",
       "    <tr>\n",
       "      <th>mean SOAP_101</th>\n",
       "      <td>0.002310</td>\n",
       "      <td>0.002173</td>\n",
       "      <td>0.003061</td>\n",
       "      <td>0.003523</td>\n",
       "      <td>0.003653</td>\n",
       "      <td>0.002944</td>\n",
       "    </tr>\n",
       "    <tr>\n",
       "      <th>mean SOAP_102</th>\n",
       "      <td>0.005912</td>\n",
       "      <td>0.004371</td>\n",
       "      <td>0.005612</td>\n",
       "      <td>0.003339</td>\n",
       "      <td>0.003315</td>\n",
       "      <td>0.004510</td>\n",
       "    </tr>\n",
       "  </tbody>\n",
       "</table>\n",
       "</div>"
      ],
      "text/plain": [
       "               importance0  importance1  importance2  importance3  \\\n",
       "mean SOAP_0       0.001037     0.001282     0.002351     0.001102   \n",
       "mean SOAP_1       0.001437     0.000519     0.001753     0.001993   \n",
       "mean SOAP_100     0.001482     0.000864     0.001148     0.000861   \n",
       "mean SOAP_101     0.002310     0.002173     0.003061     0.003523   \n",
       "mean SOAP_102     0.005912     0.004371     0.005612     0.003339   \n",
       "\n",
       "               importance4   average  \n",
       "mean SOAP_0       0.001132  0.001381  \n",
       "mean SOAP_1       0.002314  0.001603  \n",
       "mean SOAP_100     0.001897  0.001250  \n",
       "mean SOAP_101     0.003653  0.002944  \n",
       "mean SOAP_102     0.003315  0.004510  "
      ]
     },
     "execution_count": 13,
     "metadata": {},
     "output_type": "execute_result"
    }
   ],
   "source": [
    "overall_soap_df.head()"
   ]
  },
  {
   "cell_type": "code",
   "execution_count": 14,
   "id": "00ed2dad-caa3-4aa8-96df-ddbe7360391b",
   "metadata": {},
   "outputs": [],
   "source": [
    "df_soap_reduced1 = iterative_remove(overall_soap_df,df_soap_reduced)\n",
    "output_soap1 = cross_validate(rf_soap_cv, df_soap_reduced1, y, cv = kf, scoring = 'neg_root_mean_squared_error', return_estimator = True)\n",
    "\n",
    "overall_soap_df1 = extract_importances(output_soap1)\n"
   ]
  },
  {
   "cell_type": "code",
   "execution_count": 15,
   "id": "79edc326-e17c-481f-ac0a-7eb9ef809720",
   "metadata": {},
   "outputs": [],
   "source": [
    "df_soap_reduced2 = iterative_remove(overall_soap_df1,df_soap_reduced)\n",
    "output_soap2 = cross_validate(rf_soap_cv, df_soap_reduced2, y, cv = kf, scoring = 'neg_root_mean_squared_error', return_estimator = True)\n",
    "\n",
    "overall_soap_df2 = extract_importances(output_soap2)\n"
   ]
  },
  {
   "cell_type": "code",
   "execution_count": 16,
   "id": "36c91e21-e2bc-4e92-8489-b582f6724d40",
   "metadata": {},
   "outputs": [],
   "source": [
    "df_soap_reduced3 = iterative_remove(overall_soap_df2,df_soap_reduced)\n",
    "output_soap3 = cross_validate(rf_soap_cv, df_soap_reduced3, y, cv = kf, scoring = 'neg_root_mean_squared_error', return_estimator = True)\n",
    "\n",
    "overall_soap_df3 = extract_importances(output_soap3)\n"
   ]
  },
  {
   "cell_type": "code",
   "execution_count": 17,
   "id": "4a235a40-fa0f-4f60-b782-7b5e53e8b32e",
   "metadata": {},
   "outputs": [],
   "source": [
    "df_soap_reduced4 = iterative_remove(overall_soap_df3,df_soap_reduced)\n",
    "output_soap4 = cross_validate(rf_soap_cv, df_soap_reduced4, y, cv = kf, scoring = 'neg_root_mean_squared_error', return_estimator = True)\n",
    "\n",
    "overall_soap_df4 = extract_importances(output_soap4)\n"
   ]
  },
  {
   "cell_type": "code",
   "execution_count": 18,
   "id": "7d7e2005-61d5-4295-b26b-3ba4e1a7980d",
   "metadata": {},
   "outputs": [
    {
     "data": {
      "text/plain": [
       "-0.834250826472568"
      ]
     },
     "execution_count": 18,
     "metadata": {},
     "output_type": "execute_result"
    }
   ],
   "source": [
    "output_soap4[\"test_score\"].mean()"
   ]
  },
  {
   "cell_type": "code",
   "execution_count": 19,
   "id": "9fd8259c-08e5-44b6-bf8c-af6f14a79804",
   "metadata": {},
   "outputs": [],
   "source": [
    "df_soap_reduced5 = iterative_remove(overall_soap_df4,df_soap_reduced)\n",
    "output_soap5 = cross_validate(rf_soap_cv, df_soap_reduced5, y, cv = kf, scoring = 'neg_root_mean_squared_error', return_estimator = True)\n",
    "\n",
    "overall_soap_df5 = extract_importances(output_soap5)\n"
   ]
  },
  {
   "cell_type": "code",
   "execution_count": 20,
   "id": "0052fe34-ac16-41b0-b7a1-1b104febe1c8",
   "metadata": {},
   "outputs": [],
   "source": [
    "df_soap_reduced6 = iterative_remove(overall_soap_df5,df_soap_reduced)\n",
    "output_soap6 = cross_validate(rf_soap_cv, df_soap_reduced6, y, cv = kf, scoring = 'neg_root_mean_squared_error', return_estimator = True)\n",
    "\n",
    "overall_soap_df6 = extract_importances(output_soap6)\n"
   ]
  },
  {
   "cell_type": "code",
   "execution_count": 21,
   "id": "0002ddb3-e14f-4297-b58d-a0535f76a0b5",
   "metadata": {},
   "outputs": [],
   "source": [
    "df_soap_reduced7 = iterative_remove(overall_soap_df6,df_soap_reduced)\n",
    "output_soap7 = cross_validate(rf_soap_cv, df_soap_reduced7, y, cv = kf, scoring = 'neg_root_mean_squared_error', return_estimator = True)\n",
    "\n",
    "overall_soap_df7 = extract_importances(output_soap7)\n"
   ]
  },
  {
   "cell_type": "code",
   "execution_count": 22,
   "id": "b3e9e2f6-bd03-47d2-9c64-195dda3e8f6b",
   "metadata": {},
   "outputs": [],
   "source": [
    "df_soap_reduced8 = iterative_remove(overall_soap_df7,df_soap_reduced)\n",
    "output_soap8 = cross_validate(rf_soap_cv, df_soap_reduced8, y, cv = kf, scoring = 'neg_root_mean_squared_error', return_estimator = True)\n",
    "\n",
    "overall_soap_df8 = extract_importances(output_soap8)\n"
   ]
  },
  {
   "cell_type": "code",
   "execution_count": 23,
   "id": "a50cd0a8-da35-48a8-8bb4-16e38d5fbe0b",
   "metadata": {},
   "outputs": [],
   "source": [
    "df_soap_reduced9 = iterative_remove(overall_soap_df8,df_soap_reduced)\n",
    "output_soap9 = cross_validate(rf_soap_cv, df_soap_reduced9, y, cv = kf, scoring = 'neg_root_mean_squared_error', return_estimator = True)\n",
    "\n",
    "overall_soap_df9 = extract_importances(output_soap9)\n"
   ]
  },
  {
   "cell_type": "code",
   "execution_count": 24,
   "id": "ce819b66-bf19-4e1d-83a3-c869f4ce6e4f",
   "metadata": {},
   "outputs": [],
   "source": [
    "df_soap_reduced10 = iterative_remove(overall_soap_df9,df_soap_reduced)\n",
    "output_soap10 = cross_validate(rf_soap_cv, df_soap_reduced10, y, cv = kf, scoring = 'neg_root_mean_squared_error', return_estimator = True)\n",
    "\n",
    "overall_soap_df10 = extract_importances(output_soap10)\n"
   ]
  },
  {
   "cell_type": "code",
   "execution_count": null,
   "id": "03193244-4ee3-4d07-bb96-fcc91b1f5c06",
   "metadata": {},
   "outputs": [],
   "source": []
  },
  {
   "cell_type": "code",
   "execution_count": 25,
   "id": "8c9130a5-d766-4ec4-b63b-edbc21fc783f",
   "metadata": {},
   "outputs": [],
   "source": [
    "df_soap_reduced11 = iterative_remove(overall_soap_df10,df_soap_reduced)\n",
    "output_soap11 = cross_validate(rf_soap_cv, df_soap_reduced11, y, cv = kf, scoring = 'neg_root_mean_squared_error', return_estimator = True)\n",
    "\n",
    "overall_soap_df11 = extract_importances(output_soap11)\n"
   ]
  },
  {
   "cell_type": "code",
   "execution_count": 26,
   "id": "096a7e40-d3df-425f-91aa-42043176246a",
   "metadata": {},
   "outputs": [],
   "source": [
    "df_soap_reduced12 = iterative_remove(overall_soap_df11,df_soap_reduced)\n",
    "output_soap12 = cross_validate(rf_soap_cv, df_soap_reduced12, y, cv = kf, scoring = 'neg_root_mean_squared_error', return_estimator = True)\n",
    "\n",
    "overall_soap_df12 = extract_importances(output_soap12)\n"
   ]
  },
  {
   "cell_type": "code",
   "execution_count": 27,
   "id": "abb594d5-b3b3-43c3-9f35-c79ec4b6a9a3",
   "metadata": {},
   "outputs": [],
   "source": [
    "df_soap_reduced13 = iterative_remove(overall_soap_df12,df_soap_reduced)\n",
    "output_soap13 = cross_validate(rf_soap_cv, df_soap_reduced13, y, cv = kf, scoring = 'neg_root_mean_squared_error', return_estimator = True)\n",
    "\n",
    "overall_soap_df13 = extract_importances(output_soap13)\n"
   ]
  },
  {
   "cell_type": "code",
   "execution_count": 28,
   "id": "a4b34191-69ae-42d6-808e-4f948623242a",
   "metadata": {},
   "outputs": [],
   "source": [
    "df_soap_reduced14 = iterative_remove(overall_soap_df13,df_soap_reduced)\n",
    "output_soap14 = cross_validate(rf_soap_cv, df_soap_reduced14, y, cv = kf, scoring = 'neg_root_mean_squared_error', return_estimator = True)\n",
    "\n",
    "overall_soap_df14 = extract_importances(output_soap14)\n"
   ]
  },
  {
   "cell_type": "code",
   "execution_count": 29,
   "id": "d564c665-b898-4f6e-9bac-9d97a51f31dd",
   "metadata": {},
   "outputs": [],
   "source": [
    "df_soap_reduced15 = iterative_remove(overall_soap_df14,df_soap_reduced)\n",
    "output_soap15 = cross_validate(rf_soap_cv, df_soap_reduced15, y, cv = kf, scoring = 'neg_root_mean_squared_error', return_estimator = True)\n",
    "\n",
    "overall_soap_df15 = extract_importances(output_soap15)\n"
   ]
  },
  {
   "cell_type": "code",
   "execution_count": 30,
   "id": "456c7b35-1e59-440e-b0b7-7192c4e11a17",
   "metadata": {},
   "outputs": [],
   "source": [
    "output_list = [output_soap,output_soap1,output_soap2,output_soap3,output_soap4,output_soap5,output_soap6,output_soap7,output_soap8,output_soap9,output_soap10,output_soap11,output_soap12,output_soap13,output_soap14,output_soap15]\n",
    "output_list_df = [df_soap_reduced,df_soap_reduced1,df_soap_reduced2,df_soap_reduced3,df_soap_reduced4,df_soap_reduced5,df_soap_reduced6,df_soap_reduced7,df_soap_reduced8,df_soap_reduced9,df_soap_reduced10,df_soap_reduced11,df_soap_reduced12,df_soap_reduced13,df_soap_reduced14,df_soap_reduced15]\n"
   ]
  },
  {
   "cell_type": "code",
   "execution_count": 31,
   "id": "89a77d66-ca03-44f4-9f12-5986bb18f107",
   "metadata": {},
   "outputs": [
    {
     "data": {
      "text/plain": [
       "<AxesSubplot:xlabel='Length', ylabel='Average RMSE Score (5CV)'>"
      ]
     },
     "execution_count": 31,
     "metadata": {},
     "output_type": "execute_result"
    },
    {
     "data": {
      "image/png": "[encoded data removed]",
      "text/plain": [
       "<Figure size 432x288 with 1 Axes>"
      ]
     },
     "metadata": {
      "needs_background": "light"
     },
     "output_type": "display_data"
    }
   ],
   "source": [
    "soap_lens = [x.shape[1] for x in output_list_df]\n",
    "soap_scores = [x['test_score'].mean() for x in output_list]\n",
    "df_soap_reduction = pd.DataFrame({\"Length\":soap_lens, \"Average RMSE Score (5CV)\":soap_scores})\n",
    "df_soap_reduction.plot.scatter(x = \"Length\", y = \"Average RMSE Score (5CV)\")"
   ]
  },
  {
   "cell_type": "code",
   "execution_count": 34,
   "id": "1dd29f2c-9ce2-4a8f-bc60-28ac9a547372",
   "metadata": {},
   "outputs": [
    {
     "data": {
      "application/vnd.plotly.v1+json": {
       "config": {
        "plotlyServerURL": "https://plot.ly"
       },
       "data": [
        {
         "hovertemplate": "Feature Length=%{x}<br>Average RMSE Score (5CV)=%{y}<extra></extra>",
         "legendgroup": "",
         "marker": {
          "color": "#636efa",
          "symbol": "circle"
         },
         "mode": "markers",
         "name": "",
         "orientation": "v",
         "showlegend": false,
         "type": "scatter",
         "x": [
          423,
          381,
          343,
          309,
          278,
          250,
          225,
          203,
          183,
          165,
          149,
          134,
          121,
          109,
          98,
          88
         ],
         "xaxis": "x",
         "y": [
          -0.8379588871792096,
          -0.839450286382802,
          -0.840206706190856,
          -0.835543469385212,
          -0.834250826472568,
          -0.8323366656140292,
          -0.8340417010063943,
          -0.8289041848201387,
          -0.8311770646670917,
          -0.8287633159730303,
          -0.8284032403019157,
          -0.8296338640828138,
          -0.8254226602207323,
          -0.8232237487880809,
          -0.830967467411823,
          -0.8209795660206239
         ],
         "yaxis": "y"
        }
       ],
       "layout": {
        "height": 400,
        "legend": {
         "tracegroupgap": 0
        },
        "margin": {
         "t": 60
        },
        "template": {
         "data": {
          "bar": [
           {
            "error_x": {
             "color": "#2a3f5f"
            },
            "error_y": {
             "color": "#2a3f5f"
            },
            "marker": {
             "line": {
              "color": "#E5ECF6",
              "width": 0.5
             },
             "pattern": {
              "fillmode": "overlay",
              "size": 10,
              "solidity": 0.2
             }
            },
            "type": "bar"
           }
          ],
          "barpolar": [
           {
            "marker": {
             "line": {
              "color": "#E5ECF6",
              "width": 0.5
             },
             "pattern": {
              "fillmode": "overlay",
              "size": 10,
              "solidity": 0.2
             }
            },
            "type": "barpolar"
           }
          ],
          "carpet": [
           {
            "aaxis": {
             "endlinecolor": "#2a3f5f",
             "gridcolor": "white",
             "linecolor": "white",
             "minorgridcolor": "white",
             "startlinecolor": "#2a3f5f"
            },
            "baxis": {
             "endlinecolor": "#2a3f5f",
             "gridcolor": "white",
             "linecolor": "white",
             "minorgridcolor": "white",
             "startlinecolor": "#2a3f5f"
            },
            "type": "carpet"
           }
          ],
          "choropleth": [
           {
            "colorbar": {
             "outlinewidth": 0,
             "ticks": ""
            },
            "type": "choropleth"
           }
          ],
          "contour": [
           {
            "colorbar": {
             "outlinewidth": 0,
             "ticks": ""
            },
            "colorscale": [
             [
              0,
              "#0d0887"
             ],
             [
              0.1111111111111111,
              "#46039f"
             ],
             [
              0.2222222222222222,
              "#7201a8"
             ],
             [
              0.3333333333333333,
              "#9c179e"
             ],
             [
              0.4444444444444444,
              "#bd3786"
             ],
             [
              0.5555555555555556,
              "#d8576b"
             ],
             [
              0.6666666666666666,
              "#ed7953"
             ],
             [
              0.7777777777777778,
              "#fb9f3a"
             ],
             [
              0.8888888888888888,
              "#fdca26"
             ],
             [
              1,
              "#f0f921"
             ]
            ],
            "type": "contour"
           }
          ],
          "contourcarpet": [
           {
            "colorbar": {
             "outlinewidth": 0,
             "ticks": ""
            },
            "type": "contourcarpet"
           }
          ],
          "heatmap": [
           {
            "colorbar": {
             "outlinewidth": 0,
             "ticks": ""
            },
            "colorscale": [
             [
              0,
              "#0d0887"
             ],
             [
              0.1111111111111111,
              "#46039f"
             ],
             [
              0.2222222222222222,
              "#7201a8"
             ],
             [
              0.3333333333333333,
              "#9c179e"
             ],
             [
              0.4444444444444444,
              "#bd3786"
             ],
             [
              0.5555555555555556,
              "#d8576b"
             ],
             [
              0.6666666666666666,
              "#ed7953"
             ],
             [
              0.7777777777777778,
              "#fb9f3a"
             ],
             [
              0.8888888888888888,
              "#fdca26"
             ],
             [
              1,
              "#f0f921"
             ]
            ],
            "type": "heatmap"
           }
          ],
          "heatmapgl": [
           {
            "colorbar": {
             "outlinewidth": 0,
             "ticks": ""
            },
            "colorscale": [
             [
              0,
              "#0d0887"
             ],
             [
              0.1111111111111111,
              "#46039f"
             ],
             [
              0.2222222222222222,
              "#7201a8"
             ],
             [
              0.3333333333333333,
              "#9c179e"
             ],
             [
              0.4444444444444444,
              "#bd3786"
             ],
             [
              0.5555555555555556,
              "#d8576b"
             ],
             [
              0.6666666666666666,
              "#ed7953"
             ],
             [
              0.7777777777777778,
              "#fb9f3a"
             ],
             [
              0.8888888888888888,
              "#fdca26"
             ],
             [
              1,
              "#f0f921"
             ]
            ],
            "type": "heatmapgl"
           }
          ],
          "histogram": [
           {
            "marker": {
             "pattern": {
              "fillmode": "overlay",
              "size": 10,
              "solidity": 0.2
             }
            },
            "type": "histogram"
           }
          ],
          "histogram2d": [
           {
            "colorbar": {
             "outlinewidth": 0,
             "ticks": ""
            },
            "colorscale": [
             [
              0,
              "#0d0887"
             ],
             [
              0.1111111111111111,
              "#46039f"
             ],
             [
              0.2222222222222222,
              "#7201a8"
             ],
             [
              0.3333333333333333,
              "#9c179e"
             ],
             [
              0.4444444444444444,
              "#bd3786"
             ],
             [
              0.5555555555555556,
              "#d8576b"
             ],
             [
              0.6666666666666666,
              "#ed7953"
             ],
             [
              0.7777777777777778,
              "#fb9f3a"
             ],
             [
              0.8888888888888888,
              "#fdca26"
             ],
             [
              1,
              "#f0f921"
             ]
            ],
            "type": "histogram2d"
           }
          ],
          "histogram2dcontour": [
           {
            "colorbar": {
             "outlinewidth": 0,
             "ticks": ""
            },
            "colorscale": [
             [
              0,
              "#0d0887"
             ],
             [
              0.1111111111111111,
              "#46039f"
             ],
             [
              0.2222222222222222,
              "#7201a8"
             ],
             [
              0.3333333333333333,
              "#9c179e"
             ],
             [
              0.4444444444444444,
              "#bd3786"
             ],
             [
              0.5555555555555556,
              "#d8576b"
             ],
             [
              0.6666666666666666,
              "#ed7953"
             ],
             [
              0.7777777777777778,
              "#fb9f3a"
             ],
             [
              0.8888888888888888,
              "#fdca26"
             ],
             [
              1,
              "#f0f921"
             ]
            ],
            "type": "histogram2dcontour"
           }
          ],
          "mesh3d": [
           {
            "colorbar": {
             "outlinewidth": 0,
             "ticks": ""
            },
            "type": "mesh3d"
           }
          ],
          "parcoords": [
           {
            "line": {
             "colorbar": {
              "outlinewidth": 0,
              "ticks": ""
             }
            },
            "type": "parcoords"
           }
          ],
          "pie": [
           {
            "automargin": true,
            "type": "pie"
           }
          ],
          "scatter": [
           {
            "marker": {
             "colorbar": {
              "outlinewidth": 0,
              "ticks": ""
             }
            },
            "type": "scatter"
           }
          ],
          "scatter3d": [
           {
            "line": {
             "colorbar": {
              "outlinewidth": 0,
              "ticks": ""
             }
            },
            "marker": {
             "colorbar": {
              "outlinewidth": 0,
              "ticks": ""
             }
            },
            "type": "scatter3d"
           }
          ],
          "scattercarpet": [
           {
            "marker": {
             "colorbar": {
              "outlinewidth": 0,
              "ticks": ""
             }
            },
            "type": "scattercarpet"
           }
          ],
          "scattergeo": [
           {
            "marker": {
             "colorbar": {
              "outlinewidth": 0,
              "ticks": ""
             }
            },
            "type": "scattergeo"
           }
          ],
          "scattergl": [
           {
            "marker": {
             "colorbar": {
              "outlinewidth": 0,
              "ticks": ""
             }
            },
            "type": "scattergl"
           }
          ],
          "scattermapbox": [
           {
            "marker": {
             "colorbar": {
              "outlinewidth": 0,
              "ticks": ""
             }
            },
            "type": "scattermapbox"
           }
          ],
          "scatterpolar": [
           {
            "marker": {
             "colorbar": {
              "outlinewidth": 0,
              "ticks": ""
             }
            },
            "type": "scatterpolar"
           }
          ],
          "scatterpolargl": [
           {
            "marker": {
             "colorbar": {
              "outlinewidth": 0,
              "ticks": ""
             }
            },
            "type": "scatterpolargl"
           }
          ],
          "scatterternary": [
           {
            "marker": {
             "colorbar": {
              "outlinewidth": 0,
              "ticks": ""
             }
            },
            "type": "scatterternary"
           }
          ],
          "surface": [
           {
            "colorbar": {
             "outlinewidth": 0,
             "ticks": ""
            },
            "colorscale": [
             [
              0,
              "#0d0887"
             ],
             [
              0.1111111111111111,
              "#46039f"
             ],
             [
              0.2222222222222222,
              "#7201a8"
             ],
             [
              0.3333333333333333,
              "#9c179e"
             ],
             [
              0.4444444444444444,
              "#bd3786"
             ],
             [
              0.5555555555555556,
              "#d8576b"
             ],
             [
              0.6666666666666666,
              "#ed7953"
             ],
             [
              0.7777777777777778,
              "#fb9f3a"
             ],
             [
              0.8888888888888888,
              "#fdca26"
             ],
             [
              1,
              "#f0f921"
             ]
            ],
            "type": "surface"
           }
          ],
          "table": [
           {
            "cells": {
             "fill": {
              "color": "#EBF0F8"
             },
             "line": {
              "color": "white"
             }
            },
            "header": {
             "fill": {
              "color": "#C8D4E3"
             },
             "line": {
              "color": "white"
             }
            },
            "type": "table"
           }
          ]
         },
         "layout": {
          "annotationdefaults": {
           "arrowcolor": "#2a3f5f",
           "arrowhead": 0,
           "arrowwidth": 1
          },
          "autotypenumbers": "strict",
          "coloraxis": {
           "colorbar": {
            "outlinewidth": 0,
            "ticks": ""
           }
          },
          "colorscale": {
           "diverging": [
            [
             0,
             "#8e0152"
            ],
            [
             0.1,
             "#c51b7d"
            ],
            [
             0.2,
             "#de77ae"
            ],
            [
             0.3,
             "#f1b6da"
            ],
            [
             0.4,
             "#fde0ef"
            ],
            [
             0.5,
             "#f7f7f7"
            ],
            [
             0.6,
             "#e6f5d0"
            ],
            [
             0.7,
             "#b8e186"
            ],
            [
             0.8,
             "#7fbc41"
            ],
            [
             0.9,
             "#4d9221"
            ],
            [
             1,
             "#276419"
            ]
           ],
           "sequential": [
            [
             0,
             "#0d0887"
            ],
            [
             0.1111111111111111,
             "#46039f"
            ],
            [
             0.2222222222222222,
             "#7201a8"
            ],
            [
             0.3333333333333333,
             "#9c179e"
            ],
            [
             0.4444444444444444,
             "#bd3786"
            ],
            [
             0.5555555555555556,
             "#d8576b"
            ],
            [
             0.6666666666666666,
             "#ed7953"
            ],
            [
             0.7777777777777778,
             "#fb9f3a"
            ],
            [
             0.8888888888888888,
             "#fdca26"
            ],
            [
             1,
             "#f0f921"
            ]
           ],
           "sequentialminus": [
            [
             0,
             "#0d0887"
            ],
            [
             0.1111111111111111,
             "#46039f"
            ],
            [
             0.2222222222222222,
             "#7201a8"
            ],
            [
             0.3333333333333333,
             "#9c179e"
            ],
            [
             0.4444444444444444,
             "#bd3786"
            ],
            [
             0.5555555555555556,
             "#d8576b"
            ],
            [
             0.6666666666666666,
             "#ed7953"
            ],
            [
             0.7777777777777778,
             "#fb9f3a"
            ],
            [
             0.8888888888888888,
             "#fdca26"
            ],
            [
             1,
             "#f0f921"
            ]
           ]
          },
          "colorway": [
           "#636efa",
           "#EF553B",
           "#00cc96",
           "#ab63fa",
           "#FFA15A",
           "#19d3f3",
           "#FF6692",
           "#B6E880",
           "#FF97FF",
           "#FECB52"
          ],
          "font": {
           "color": "#2a3f5f"
          },
          "geo": {
           "bgcolor": "white",
           "lakecolor": "white",
           "landcolor": "#E5ECF6",
           "showlakes": true,
           "showland": true,
           "subunitcolor": "white"
          },
          "hoverlabel": {
           "align": "left"
          },
          "hovermode": "closest",
          "mapbox": {
           "style": "light"
          },
          "paper_bgcolor": "white",
          "plot_bgcolor": "#E5ECF6",
          "polar": {
           "angularaxis": {
            "gridcolor": "white",
            "linecolor": "white",
            "ticks": ""
           },
           "bgcolor": "#E5ECF6",
           "radialaxis": {
            "gridcolor": "white",
            "linecolor": "white",
            "ticks": ""
           }
          },
          "scene": {
           "xaxis": {
            "backgroundcolor": "#E5ECF6",
            "gridcolor": "white",
            "gridwidth": 2,
            "linecolor": "white",
            "showbackground": true,
            "ticks": "",
            "zerolinecolor": "white"
           },
           "yaxis": {
            "backgroundcolor": "#E5ECF6",
            "gridcolor": "white",
            "gridwidth": 2,
            "linecolor": "white",
            "showbackground": true,
            "ticks": "",
            "zerolinecolor": "white"
           },
           "zaxis": {
            "backgroundcolor": "#E5ECF6",
            "gridcolor": "white",
            "gridwidth": 2,
            "linecolor": "white",
            "showbackground": true,
            "ticks": "",
            "zerolinecolor": "white"
           }
          },
          "shapedefaults": {
           "line": {
            "color": "#2a3f5f"
           }
          },
          "ternary": {
           "aaxis": {
            "gridcolor": "white",
            "linecolor": "white",
            "ticks": ""
           },
           "baxis": {
            "gridcolor": "white",
            "linecolor": "white",
            "ticks": ""
           },
           "bgcolor": "#E5ECF6",
           "caxis": {
            "gridcolor": "white",
            "linecolor": "white",
            "ticks": ""
           }
          },
          "title": {
           "x": 0.05
          },
          "xaxis": {
           "automargin": true,
           "gridcolor": "white",
           "linecolor": "white",
           "ticks": "",
           "title": {
            "standoff": 15
           },
           "zerolinecolor": "white",
           "zerolinewidth": 2
          },
          "yaxis": {
           "automargin": true,
           "gridcolor": "white",
           "linecolor": "white",
           "ticks": "",
           "title": {
            "standoff": 15
           },
           "zerolinecolor": "white",
           "zerolinewidth": 2
          }
         }
        },
        "width": 700,
        "xaxis": {
         "anchor": "y",
         "autorange": true,
         "domain": [
          0,
          1
         ],
         "range": [
          66.45523329129887,
          444.54476670870116
         ],
         "title": {
          "text": "Feature Length"
         },
         "type": "linear"
        },
        "yaxis": {
         "anchor": "x",
         "autorange": true,
         "domain": [
          0,
          1
         ],
         "range": [
          -0.8416285807950564,
          -0.8195576914164235
         ],
         "title": {
          "text": "Average RMSE Score (5CV)"
         },
         "type": "linear"
        }
       }
      },
      "image/png": "[encoded data removed]",
      "text/html": [
       "<div>                            <div id=\"8f609745-4260-4e07-9bef-e60bbdd2aef7\" class=\"plotly-graph-div\" style=\"height:400px; width:700px;\"></div>            <script type=\"text/javascript\">                require([\"plotly\"], function(Plotly) {                    window.PLOTLYENV=window.PLOTLYENV || {};                                    if (document.getElementById(\"8f609745-4260-4e07-9bef-e60bbdd2aef7\")) {                    Plotly.newPlot(                        \"8f609745-4260-4e07-9bef-e60bbdd2aef7\",                        [{\"hovertemplate\":\"Feature Length=%{x}<br>Average RMSE Score (5CV)=%{y}<extra></extra>\",\"legendgroup\":\"\",\"marker\":{\"color\":\"#636efa\",\"symbol\":\"circle\"},\"mode\":\"markers\",\"name\":\"\",\"orientation\":\"v\",\"showlegend\":false,\"type\":\"scatter\",\"x\":[423,381,343,309,278,250,225,203,183,165,149,134,121,109,98,88],\"xaxis\":\"x\",\"y\":[-0.8379588871792096,-0.839450286382802,-0.840206706190856,-0.835543469385212,-0.834250826472568,-0.8323366656140292,-0.8340417010063943,-0.8289041848201387,-0.8311770646670917,-0.8287633159730303,-0.8284032403019157,-0.8296338640828138,-0.8254226602207323,-0.8232237487880809,-0.830967467411823,-0.8209795660206239],\"yaxis\":\"y\"}],                        {\"height\":400,\"legend\":{\"tracegroupgap\":0},\"margin\":{\"t\":60},\"template\":{\"data\":{\"bar\":[{\"error_x\":{\"color\":\"#2a3f5f\"},\"error_y\":{\"color\":\"#2a3f5f\"},\"marker\":{\"line\":{\"color\":\"#E5ECF6\",\"width\":0.5},\"pattern\":{\"fillmode\":\"overlay\",\"size\":10,\"solidity\":0.2}},\"type\":\"bar\"}],\"barpolar\":[{\"marker\":{\"line\":{\"color\":\"#E5ECF6\",\"width\":0.5},\"pattern\":{\"fillmode\":\"overlay\",\"size\":10,\"solidity\":0.2}},\"type\":\"barpolar\"}],\"carpet\":[{\"aaxis\":{\"endlinecolor\":\"#2a3f5f\",\"gridcolor\":\"white\",\"linecolor\":\"white\",\"minorgridcolor\":\"white\",\"startlinecolor\":\"#2a3f5f\"},\"baxis\":{\"endlinecolor\":\"#2a3f5f\",\"gridcolor\":\"white\",\"linecolor\":\"white\",\"minorgridcolor\":\"white\",\"startlinecolor\":\"#2a3f5f\"},\"type\":\"carpet\"}],\"choropleth\":[{\"colorbar\":{\"outlinewidth\":0,\"ticks\":\"\"},\"type\":\"choropleth\"}],\"contour\":[{\"colorbar\":{\"outlinewidth\":0,\"ticks\":\"\"},\"colorscale\":[[0.0,\"#0d0887\"],[0.1111111111111111,\"#46039f\"],[0.2222222222222222,\"#7201a8\"],[0.3333333333333333,\"#9c179e\"],[0.4444444444444444,\"#bd3786\"],[0.5555555555555556,\"#d8576b\"],[0.6666666666666666,\"#ed7953\"],[0.7777777777777778,\"#fb9f3a\"],[0.8888888888888888,\"#fdca26\"],[1.0,\"#f0f921\"]],\"type\":\"contour\"}],\"contourcarpet\":[{\"colorbar\":{\"outlinewidth\":0,\"ticks\":\"\"},\"type\":\"contourcarpet\"}],\"heatmap\":[{\"colorbar\":{\"outlinewidth\":0,\"ticks\":\"\"},\"colorscale\":[[0.0,\"#0d0887\"],[0.1111111111111111,\"#46039f\"],[0.2222222222222222,\"#7201a8\"],[0.3333333333333333,\"#9c179e\"],[0.4444444444444444,\"#bd3786\"],[0.5555555555555556,\"#d8576b\"],[0.6666666666666666,\"#ed7953\"],[0.7777777777777778,\"#fb9f3a\"],[0.8888888888888888,\"#fdca26\"],[1.0,\"#f0f921\"]],\"type\":\"heatmap\"}],\"heatmapgl\":[{\"colorbar\":{\"outlinewidth\":0,\"ticks\":\"\"},\"colorscale\":[[0.0,\"#0d0887\"],[0.1111111111111111,\"#46039f\"],[0.2222222222222222,\"#7201a8\"],[0.3333333333333333,\"#9c179e\"],[0.4444444444444444,\"#bd3786\"],[0.5555555555555556,\"#d8576b\"],[0.6666666666666666,\"#ed7953\"],[0.7777777777777778,\"#fb9f3a\"],[0.8888888888888888,\"#fdca26\"],[1.0,\"#f0f921\"]],\"type\":\"heatmapgl\"}],\"histogram\":[{\"marker\":{\"pattern\":{\"fillmode\":\"overlay\",\"size\":10,\"solidity\":0.2}},\"type\":\"histogram\"}],\"histogram2d\":[{\"colorbar\":{\"outlinewidth\":0,\"ticks\":\"\"},\"colorscale\":[[0.0,\"#0d0887\"],[0.1111111111111111,\"#46039f\"],[0.2222222222222222,\"#7201a8\"],[0.3333333333333333,\"#9c179e\"],[0.4444444444444444,\"#bd3786\"],[0.5555555555555556,\"#d8576b\"],[0.6666666666666666,\"#ed7953\"],[0.7777777777777778,\"#fb9f3a\"],[0.8888888888888888,\"#fdca26\"],[1.0,\"#f0f921\"]],\"type\":\"histogram2d\"}],\"histogram2dcontour\":[{\"colorbar\":{\"outlinewidth\":0,\"ticks\":\"\"},\"colorscale\":[[0.0,\"#0d0887\"],[0.1111111111111111,\"#46039f\"],[0.2222222222222222,\"#7201a8\"],[0.3333333333333333,\"#9c179e\"],[0.4444444444444444,\"#bd3786\"],[0.5555555555555556,\"#d8576b\"],[0.6666666666666666,\"#ed7953\"],[0.7777777777777778,\"#fb9f3a\"],[0.8888888888888888,\"#fdca26\"],[1.0,\"#f0f921\"]],\"type\":\"histogram2dcontour\"}],\"mesh3d\":[{\"colorbar\":{\"outlinewidth\":0,\"ticks\":\"\"},\"type\":\"mesh3d\"}],\"parcoords\":[{\"line\":{\"colorbar\":{\"outlinewidth\":0,\"ticks\":\"\"}},\"type\":\"parcoords\"}],\"pie\":[{\"automargin\":true,\"type\":\"pie\"}],\"scatter\":[{\"marker\":{\"colorbar\":{\"outlinewidth\":0,\"ticks\":\"\"}},\"type\":\"scatter\"}],\"scatter3d\":[{\"line\":{\"colorbar\":{\"outlinewidth\":0,\"ticks\":\"\"}},\"marker\":{\"colorbar\":{\"outlinewidth\":0,\"ticks\":\"\"}},\"type\":\"scatter3d\"}],\"scattercarpet\":[{\"marker\":{\"colorbar\":{\"outlinewidth\":0,\"ticks\":\"\"}},\"type\":\"scattercarpet\"}],\"scattergeo\":[{\"marker\":{\"colorbar\":{\"outlinewidth\":0,\"ticks\":\"\"}},\"type\":\"scattergeo\"}],\"scattergl\":[{\"marker\":{\"colorbar\":{\"outlinewidth\":0,\"ticks\":\"\"}},\"type\":\"scattergl\"}],\"scattermapbox\":[{\"marker\":{\"colorbar\":{\"outlinewidth\":0,\"ticks\":\"\"}},\"type\":\"scattermapbox\"}],\"scatterpolar\":[{\"marker\":{\"colorbar\":{\"outlinewidth\":0,\"ticks\":\"\"}},\"type\":\"scatterpolar\"}],\"scatterpolargl\":[{\"marker\":{\"colorbar\":{\"outlinewidth\":0,\"ticks\":\"\"}},\"type\":\"scatterpolargl\"}],\"scatterternary\":[{\"marker\":{\"colorbar\":{\"outlinewidth\":0,\"ticks\":\"\"}},\"type\":\"scatterternary\"}],\"surface\":[{\"colorbar\":{\"outlinewidth\":0,\"ticks\":\"\"},\"colorscale\":[[0.0,\"#0d0887\"],[0.1111111111111111,\"#46039f\"],[0.2222222222222222,\"#7201a8\"],[0.3333333333333333,\"#9c179e\"],[0.4444444444444444,\"#bd3786\"],[0.5555555555555556,\"#d8576b\"],[0.6666666666666666,\"#ed7953\"],[0.7777777777777778,\"#fb9f3a\"],[0.8888888888888888,\"#fdca26\"],[1.0,\"#f0f921\"]],\"type\":\"surface\"}],\"table\":[{\"cells\":{\"fill\":{\"color\":\"#EBF0F8\"},\"line\":{\"color\":\"white\"}},\"header\":{\"fill\":{\"color\":\"#C8D4E3\"},\"line\":{\"color\":\"white\"}},\"type\":\"table\"}]},\"layout\":{\"annotationdefaults\":{\"arrowcolor\":\"#2a3f5f\",\"arrowhead\":0,\"arrowwidth\":1},\"autotypenumbers\":\"strict\",\"coloraxis\":{\"colorbar\":{\"outlinewidth\":0,\"ticks\":\"\"}},\"colorscale\":{\"diverging\":[[0,\"#8e0152\"],[0.1,\"#c51b7d\"],[0.2,\"#de77ae\"],[0.3,\"#f1b6da\"],[0.4,\"#fde0ef\"],[0.5,\"#f7f7f7\"],[0.6,\"#e6f5d0\"],[0.7,\"#b8e186\"],[0.8,\"#7fbc41\"],[0.9,\"#4d9221\"],[1,\"#276419\"]],\"sequential\":[[0.0,\"#0d0887\"],[0.1111111111111111,\"#46039f\"],[0.2222222222222222,\"#7201a8\"],[0.3333333333333333,\"#9c179e\"],[0.4444444444444444,\"#bd3786\"],[0.5555555555555556,\"#d8576b\"],[0.6666666666666666,\"#ed7953\"],[0.7777777777777778,\"#fb9f3a\"],[0.8888888888888888,\"#fdca26\"],[1.0,\"#f0f921\"]],\"sequentialminus\":[[0.0,\"#0d0887\"],[0.1111111111111111,\"#46039f\"],[0.2222222222222222,\"#7201a8\"],[0.3333333333333333,\"#9c179e\"],[0.4444444444444444,\"#bd3786\"],[0.5555555555555556,\"#d8576b\"],[0.6666666666666666,\"#ed7953\"],[0.7777777777777778,\"#fb9f3a\"],[0.8888888888888888,\"#fdca26\"],[1.0,\"#f0f921\"]]},\"colorway\":[\"#636efa\",\"#EF553B\",\"#00cc96\",\"#ab63fa\",\"#FFA15A\",\"#19d3f3\",\"#FF6692\",\"#B6E880\",\"#FF97FF\",\"#FECB52\"],\"font\":{\"color\":\"#2a3f5f\"},\"geo\":{\"bgcolor\":\"white\",\"lakecolor\":\"white\",\"landcolor\":\"#E5ECF6\",\"showlakes\":true,\"showland\":true,\"subunitcolor\":\"white\"},\"hoverlabel\":{\"align\":\"left\"},\"hovermode\":\"closest\",\"mapbox\":{\"style\":\"light\"},\"paper_bgcolor\":\"white\",\"plot_bgcolor\":\"#E5ECF6\",\"polar\":{\"angularaxis\":{\"gridcolor\":\"white\",\"linecolor\":\"white\",\"ticks\":\"\"},\"bgcolor\":\"#E5ECF6\",\"radialaxis\":{\"gridcolor\":\"white\",\"linecolor\":\"white\",\"ticks\":\"\"}},\"scene\":{\"xaxis\":{\"backgroundcolor\":\"#E5ECF6\",\"gridcolor\":\"white\",\"gridwidth\":2,\"linecolor\":\"white\",\"showbackground\":true,\"ticks\":\"\",\"zerolinecolor\":\"white\"},\"yaxis\":{\"backgroundcolor\":\"#E5ECF6\",\"gridcolor\":\"white\",\"gridwidth\":2,\"linecolor\":\"white\",\"showbackground\":true,\"ticks\":\"\",\"zerolinecolor\":\"white\"},\"zaxis\":{\"backgroundcolor\":\"#E5ECF6\",\"gridcolor\":\"white\",\"gridwidth\":2,\"linecolor\":\"white\",\"showbackground\":true,\"ticks\":\"\",\"zerolinecolor\":\"white\"}},\"shapedefaults\":{\"line\":{\"color\":\"#2a3f5f\"}},\"ternary\":{\"aaxis\":{\"gridcolor\":\"white\",\"linecolor\":\"white\",\"ticks\":\"\"},\"baxis\":{\"gridcolor\":\"white\",\"linecolor\":\"white\",\"ticks\":\"\"},\"bgcolor\":\"#E5ECF6\",\"caxis\":{\"gridcolor\":\"white\",\"linecolor\":\"white\",\"ticks\":\"\"}},\"title\":{\"x\":0.05},\"xaxis\":{\"automargin\":true,\"gridcolor\":\"white\",\"linecolor\":\"white\",\"ticks\":\"\",\"title\":{\"standoff\":15},\"zerolinecolor\":\"white\",\"zerolinewidth\":2},\"yaxis\":{\"automargin\":true,\"gridcolor\":\"white\",\"linecolor\":\"white\",\"ticks\":\"\",\"title\":{\"standoff\":15},\"zerolinecolor\":\"white\",\"zerolinewidth\":2}}},\"width\":700,\"xaxis\":{\"anchor\":\"y\",\"domain\":[0.0,1.0],\"title\":{\"text\":\"Feature Length\"}},\"yaxis\":{\"anchor\":\"x\",\"domain\":[0.0,1.0],\"title\":{\"text\":\"Average RMSE Score (5CV)\"}}},                        {\"responsive\": true}                    ).then(function(){\n",
       "                            \n",
       "var gd = document.getElementById('8f609745-4260-4e07-9bef-e60bbdd2aef7');\n",
       "var x = new MutationObserver(function (mutations, observer) {{\n",
       "        var display = window.getComputedStyle(gd).display;\n",
       "        if (!display || display === 'none') {{\n",
       "            console.log([gd, 'removed!']);\n",
       "            Plotly.purge(gd);\n",
       "            observer.disconnect();\n",
       "        }}\n",
       "}});\n",
       "\n",
       "// Listen for the removal of the full notebook cells\n",
       "var notebookContainer = gd.closest('#notebook-container');\n",
       "if (notebookContainer) {{\n",
       "    x.observe(notebookContainer, {childList: true});\n",
       "}}\n",
       "\n",
       "// Listen for the clearing of the current output cell\n",
       "var outputEl = gd.closest('.output');\n",
       "if (outputEl) {{\n",
       "    x.observe(outputEl, {childList: true});\n",
       "}}\n",
       "\n",
       "                        })                };                });            </script>        </div>"
      ]
     },
     "metadata": {},
     "output_type": "display_data"
    }
   ],
   "source": [
    "import plotly.express as px\n",
    "\n",
    "px.scatter(df_soap_reduction, x = \"Length\", y = \"Average RMSE Score (5CV)\", width= 700, height = 400, labels = {\"Length\":\"Feature Length\"})"
   ]
  },
  {
   "cell_type": "code",
   "execution_count": 33,
   "id": "4a517111-01cb-48a7-92ea-d1f44507db60",
   "metadata": {},
   "outputs": [
    {
     "ename": "NameError",
     "evalue": "name 'rf_' is not defined",
     "output_type": "error",
     "traceback": [
      "\u001b[0;31m---------------------------------------------------------------------------\u001b[0m",
      "\u001b[0;31mNameError\u001b[0m                                 Traceback (most recent call last)",
      "\u001b[0;32m/tmp/ipykernel_54/464800097.py\u001b[0m in \u001b[0;36m<module>\u001b[0;34m\u001b[0m\n\u001b[0;32m----> 1\u001b[0;31m \u001b[0mrf_\u001b[0m\u001b[0;34m\u001b[0m\u001b[0;34m\u001b[0m\u001b[0m\n\u001b[0m",
      "\u001b[0;31mNameError\u001b[0m: name 'rf_' is not defined"
     ]
    }
   ],
   "source": [
    "rf_"
   ]
  },
  {
   "cell_type": "code",
   "execution_count": null,
   "id": "ff252663-c29a-460b-8f7c-69d3c6b11916",
   "metadata": {},
   "outputs": [],
   "source": []
  }
 ],
 "metadata": {
  "kernelspec": {
   "display_name": "Python 3 (ipykernel)",
   "language": "python",
   "name": "python3"
  },
  "language_info": {
   "codemirror_mode": {
    "name": "ipython",
    "version": 3
   },
   "file_extension": ".py",
   "mimetype": "text/x-python",
   "name": "python",
   "nbconvert_exporter": "python",
   "pygments_lexer": "ipython3",
   "version": "3.8.12"
  }
 },
 "nbformat": 4,
 "nbformat_minor": 5
}
